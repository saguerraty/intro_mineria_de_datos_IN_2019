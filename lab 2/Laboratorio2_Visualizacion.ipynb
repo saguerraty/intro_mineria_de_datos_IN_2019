{
  "nbformat": 4,
  "nbformat_minor": 0,
  "metadata": {
    "kernelspec": {
      "display_name": "Python 3",
      "language": "python",
      "name": "python3"
    },
    "language_info": {
      "codemirror_mode": {
        "name": "ipython",
        "version": 3
      },
      "file_extension": ".py",
      "mimetype": "text/x-python",
      "name": "python",
      "nbconvert_exporter": "python",
      "pygments_lexer": "ipython3",
      "version": "3.7.3"
    },
    "latex_envs": {
      "LaTeX_envs_menu_present": true,
      "autoclose": false,
      "autocomplete": true,
      "bibliofile": "biblio.bib",
      "cite_by": "apalike",
      "current_citInitial": 1,
      "eqLabelWithNumbers": true,
      "eqNumInitial": 1,
      "hotkeys": {
        "equation": "Ctrl-E",
        "itemize": "Ctrl-I"
      },
      "labels_anchors": false,
      "latex_user_defs": false,
      "report_style_numbering": false,
      "user_envs_cfg": false
    },
    "colab": {
      "name": "Laboratorio2 Visualizacion.ipynb",
      "version": "0.3.2",
      "provenance": [],
      "collapsed_sections": []
    }
  },
  "cells": [
    {
      "cell_type": "markdown",
      "metadata": {
        "id": "Gz4hjEy5h717",
        "colab_type": "text"
      },
      "source": [
        "## Integrantes\n",
        "\n",
        "1. Sebastian Guerraty\n",
        "2. María José Jiménez\n",
        "3. Gabriela Alfaro"
      ]
    },
    {
      "cell_type": "markdown",
      "metadata": {
        "id": "XH4rpJE9h718",
        "colab_type": "text"
      },
      "source": [
        "# Instrucciones\n",
        "\n",
        "El laboratorio tiene 6 ptos, donde obtener 6 ptos equivale a un 7.0 y 0 ptos un 1.0. \n",
        "\n",
        "El formato de entrega será subir a u-cursos un Jupyter notebook\n",
        "laboratorio2.ipynb, que se debe ejecutar sin errores desde la primera celda a la última. Todo el código debe estar en el mismo notebook, el código debe estar comentado y testeado, el notebook debe estar escrito en forma de informe técnico, escribiendo una celda markdown antes o después de cada celda de código que arroja algún output. "
      ]
    },
    {
      "cell_type": "markdown",
      "metadata": {
        "id": "ZMpnnVU_h719",
        "colab_type": "text"
      },
      "source": [
        "# Laboratorio 2: Visualización\n",
        "\n",
        "El análisis exploratorio de los datos (EDA) es uno de los primeros pasos en un proyecto de minería de datos luego de la comprensión del problema/negocio y la selección de los datos. Es de suma importancia ya que permite corroborar hipótesis, detectar outliers, estructurar el modelamiento de los datos, resolver problemas de los datos e iterar en el entendimiento del problema.\n",
        "\n",
        "Algunos de los principales desafíos son como visualizar datos no estructurados (como texto), visualizar estructuras de datos complejas como redes y visualizar conjunto de datos de alta dimensionalidad."
      ]
    },
    {
      "cell_type": "markdown",
      "metadata": {
        "id": "UO_rec2dh71-",
        "colab_type": "text"
      },
      "source": [
        "## 1. Teórico, 2 ptos (0.5ptos c/u)\n",
        "\n",
        "1.1 Por qué la visualización de datos es tan relevante en el análisis exploratorio de datos.\n",
        "\n",
        "1.2 En qué contexto debise utilizar un gráfico de barras, cúando debería utilizar un gráfico de barras porcentual por sobre uno basado en frecuencia (de un ejemplo). \n",
        "\n",
        "1.3 En qué contexto debise utilizar un histograma, cúando debería utilizar un histograma de densidad por sobre uno basado en frecuencia (de un ejemplo). \n",
        "\n",
        "1.4 Busque una imagen en internet en el que se haya hecho un mal uso de un gráfico y reportela justificando porque fue mal elaborada dicha visualización (además inserte el link a la visualización).\n",
        "Ejemplo: https://www.biobiochile.cl/noticias/nacional/chile/2017/11/07/los-errores-del-grafico-que-mostro-pinera-durante-el-debate.shtml\n",
        "\n",
        "## 2. Aplicación, 4 ptos\n",
        "\n",
        "---\n",
        "Considere el problema que enfrenta una entidad financiera que tiene altas tasas de fuga voluntaria. Esta institución no tiene claro cuál es el perfil característico que tienen los clientes fugitivos ni cuáles son las razones por las cuales estos se fugan.\n",
        "\n",
        "El gerente general le ha pedido **definir el patrón característico de los clientes fugitivos y de los clientes no fugitivos con el objetivo de definir una serie de políticas comerciales** que permitan retener a estos potenciales clientes fugitivos.\n",
        "\n",
        "#### Entregables:\n",
        "\n",
        "2.1 Muestre al menos 3 gráficos que muestren diferencias entre el grupo que se fuga y el que no (3 ptos)\n",
        "\n",
        "2.2 Implemente al menos un gráfico para la visualización de datos multidimensional. La idea es que este gráfico resuma los resultados obtenidos del proceso de análisis exploratorio de los datos (i.e, muestra en una visualización las diferencias en los atributos que caracterizan ambas poblaciones) (1 pto)\n",
        "\n",
        "---\n",
        "Variable | Descripción\n",
        "------------- | -------------\n",
        "1. ID | Identificador del cliente\n",
        "2. Genero | Genero del cliente\n",
        "3. Renta | Renta en pesos\n",
        "4. Edad | Edad en años\n",
        "5. NIV_Educ | Nivel educacional\n",
        "6. E_Civil | Estado civil\n",
        "7. COD_OfI | Código de la oficina \n",
        "8. Ciudad | Ciudad de la oficina\n",
        "9. D_Marzo | Deuda de Marzo\n",
        "10. D_Abril | Deuda de Abril \n",
        "11. D_Mayo | Deuda de Mayo\n",
        "12. D_Junio | Deuda de Junio \n",
        "13. D_Julio | Deuda de Julio \n",
        "14. D_Agosto | Deuda de Agosto \n",
        "15. D_Septiembre | Deuda de Septiembre\n",
        "16. M_Moroso | Meses en Mora\n",
        "17. Monto | Monto preaprobado \n",
        "18. Seguro | Seguro de gravamen \n",
        "19. Fuga | Variable objetivo"
      ]
    },
    {
      "cell_type": "markdown",
      "metadata": {
        "id": "_2N1fe-qmYeZ",
        "colab_type": "text"
      },
      "source": [
        "## 1. Teórico\n"
      ]
    },
    {
      "cell_type": "markdown",
      "metadata": {
        "id": "L8yJxTp_lMhd",
        "colab_type": "text"
      },
      "source": [
        "1.1. La estadística descriptivo nos entrega la posibilidad de entender cómo se distribuyen los datos, que no podría evaluar si no se realizan visualizaciones de los datos.\n",
        "\n",
        "1.2\n",
        "\n",
        "1.3\n",
        "\n",
        "1.4\n"
      ]
    },
    {
      "cell_type": "markdown",
      "metadata": {
        "id": "m1IqU-9SmH_v",
        "colab_type": "text"
      },
      "source": [
        "## 2. Aplicación"
      ]
    },
    {
      "cell_type": "code",
      "metadata": {
        "id": "Pi9OfSXEh71-",
        "colab_type": "code",
        "colab": {}
      },
      "source": [
        "import numpy as np\n",
        "import pandas as pd\n",
        "import matplotlib.pyplot as plt\n",
        "import seaborn as sns"
      ],
      "execution_count": 0,
      "outputs": []
    },
    {
      "cell_type": "code",
      "metadata": {
        "id": "Yi_QWkyih72B",
        "colab_type": "code",
        "outputId": "8be01d38-abe7-4fec-fdda-6830065f976d",
        "colab": {
          "base_uri": "https://localhost:8080/",
          "height": 213
        }
      },
      "source": [
        "df = pd.read_csv('https://raw.githubusercontent.com/dgarridoa/Lab2_Dataset/master/Fuga_Bancos.csv', index_col=0)\n",
        "n=3\n",
        "df.head(n)"
      ],
      "execution_count": 0,
      "outputs": [
        {
          "output_type": "execute_result",
          "data": {
            "text/html": [
              "<div>\n",
              "<style scoped>\n",
              "    .dataframe tbody tr th:only-of-type {\n",
              "        vertical-align: middle;\n",
              "    }\n",
              "\n",
              "    .dataframe tbody tr th {\n",
              "        vertical-align: top;\n",
              "    }\n",
              "\n",
              "    .dataframe thead th {\n",
              "        text-align: right;\n",
              "    }\n",
              "</style>\n",
              "<table border=\"1\" class=\"dataframe\">\n",
              "  <thead>\n",
              "    <tr style=\"text-align: right;\">\n",
              "      <th></th>\n",
              "      <th>GENERO</th>\n",
              "      <th>RENTA</th>\n",
              "      <th>EDAD</th>\n",
              "      <th>NIV_EDUC</th>\n",
              "      <th>E_CIVIL</th>\n",
              "      <th>CIUDAD</th>\n",
              "      <th>COD_OFI</th>\n",
              "      <th>D_Marzo</th>\n",
              "      <th>D_Abril</th>\n",
              "      <th>D_Mayo</th>\n",
              "      <th>D_Junio</th>\n",
              "      <th>D_Julio</th>\n",
              "      <th>D_Agosto</th>\n",
              "      <th>D_Septiembre</th>\n",
              "      <th>M_MOROSO</th>\n",
              "      <th>MONTO</th>\n",
              "      <th>SEGURO</th>\n",
              "      <th>FUGA</th>\n",
              "    </tr>\n",
              "  </thead>\n",
              "  <tbody>\n",
              "    <tr>\n",
              "      <th>0</th>\n",
              "      <td>M</td>\n",
              "      <td>746476</td>\n",
              "      <td>39.0</td>\n",
              "      <td>MED</td>\n",
              "      <td>CAS</td>\n",
              "      <td>LOS ANGELES</td>\n",
              "      <td>68</td>\n",
              "      <td>0</td>\n",
              "      <td>38292</td>\n",
              "      <td>0</td>\n",
              "      <td>434357</td>\n",
              "      <td>1766</td>\n",
              "      <td>9110</td>\n",
              "      <td>340</td>\n",
              "      <td>2</td>\n",
              "      <td>2000000</td>\n",
              "      <td>NO</td>\n",
              "      <td>NO FUGA</td>\n",
              "    </tr>\n",
              "    <tr>\n",
              "      <th>1</th>\n",
              "      <td>F</td>\n",
              "      <td>11901</td>\n",
              "      <td>49.0</td>\n",
              "      <td>MED</td>\n",
              "      <td>VIU</td>\n",
              "      <td>SANTIAGO</td>\n",
              "      <td>16</td>\n",
              "      <td>0</td>\n",
              "      <td>0</td>\n",
              "      <td>0</td>\n",
              "      <td>0</td>\n",
              "      <td>48</td>\n",
              "      <td>0</td>\n",
              "      <td>0</td>\n",
              "      <td>1</td>\n",
              "      <td>7500000</td>\n",
              "      <td>SI</td>\n",
              "      <td>NO FUGA</td>\n",
              "    </tr>\n",
              "    <tr>\n",
              "      <th>2</th>\n",
              "      <td>M</td>\n",
              "      <td>1651421</td>\n",
              "      <td>39.0</td>\n",
              "      <td>TEC</td>\n",
              "      <td>CAS</td>\n",
              "      <td>ANTOFAGASTA</td>\n",
              "      <td>90</td>\n",
              "      <td>0</td>\n",
              "      <td>604169</td>\n",
              "      <td>0</td>\n",
              "      <td>0</td>\n",
              "      <td>323</td>\n",
              "      <td>26489</td>\n",
              "      <td>2925</td>\n",
              "      <td>1</td>\n",
              "      <td>8000000</td>\n",
              "      <td>NO</td>\n",
              "      <td>NO FUGA</td>\n",
              "    </tr>\n",
              "  </tbody>\n",
              "</table>\n",
              "</div>"
            ],
            "text/plain": [
              "  GENERO    RENTA  EDAD NIV_EDUC  ... M_MOROSO    MONTO  SEGURO     FUGA\n",
              "0      M   746476  39.0      MED  ...        2  2000000      NO  NO FUGA\n",
              "1      F    11901  49.0      MED  ...        1  7500000      SI  NO FUGA\n",
              "2      M  1651421  39.0      TEC  ...        1  8000000      NO  NO FUGA\n",
              "\n",
              "[3 rows x 18 columns]"
            ]
          },
          "metadata": {
            "tags": []
          },
          "execution_count": 11
        }
      ]
    },
    {
      "cell_type": "markdown",
      "metadata": {
        "id": "XfooJN8zkzYH",
        "colab_type": "text"
      },
      "source": [
        "2.1.1 Fugas según género: Muestra la cantidad de personas que se fugan y que no lo hacen, considerando su género. "
      ]
    },
    {
      "cell_type": "code",
      "metadata": {
        "id": "Dr3ogcWgjfgq",
        "colab_type": "code",
        "outputId": "64a615a0-41bd-49a3-8191-34bc6b750d66",
        "colab": {
          "base_uri": "https://localhost:8080/",
          "height": 308
        }
      },
      "source": [
        "sns.set()\n",
        "df_count = df.groupby(['GENERO', 'FUGA']).size().reset_index(name='count')\n",
        "df_count\n",
        "sns.barplot(x='FUGA', y='count', hue='GENERO', data=df_count)"
      ],
      "execution_count": 0,
      "outputs": [
        {
          "output_type": "execute_result",
          "data": {
            "text/plain": [
              "<matplotlib.axes._subplots.AxesSubplot at 0x7f6d977a8ba8>"
            ]
          },
          "metadata": {
            "tags": []
          },
          "execution_count": 12
        },
        {
          "output_type": "display_data",
          "data": {
            "image/png": "[encoded data removed]",
            "text/plain": [
              "<Figure size 432x288 with 1 Axes>"
            ]
          },
          "metadata": {
            "tags": []
          }
        }
      ]
    },
    {
      "cell_type": "markdown",
      "metadata": {
        "id": "bgUifT3xmuf5",
        "colab_type": "text"
      },
      "source": [
        "De este gráfico se puede concluir que "
      ]
    },
    {
      "cell_type": "markdown",
      "metadata": {
        "id": "RMChdeuBlCi6",
        "colab_type": "text"
      },
      "source": [
        "2.1.2 "
      ]
    }
  ]
}