{
 "cells": [
  {
   "cell_type": "markdown",
   "metadata": {},
   "source": [
    " ## Integrantes\n",
    "\n",
    " 1. Sebastian Guerraty\n",
    " 2. María José Jiménez\n",
    " 3. Gabriela Alfaro"
   ]
  },
  {
   "cell_type": "markdown",
   "metadata": {},
   "source": [
    " # Instrucciones\n",
    "\n",
    " El laboratorio tiene 6 ptos, donde obtener 6 ptos equivale a un 7.0 y 0 ptos un 1.0.\n",
    "\n",
    " El formato de entrega será subir a u-cursos un Jupyter notebook\n",
    " laboratorio1.ipynb, que se debe ejecutar sin errores desde la primera celda a la última. Todo el código debe estar en el mismo notebook, el código debe estar comentado y testeado, el notebook debe estar escrito en forma de informe técnico, escribiendo una celda markdown antes o después de cada celda de código que arroja algún output."
   ]
  },
  {
   "cell_type": "markdown",
   "metadata": {},
   "source": [
    " ## 1. Teórico, 2 ptos\n",
    "\n",
    "1.1 ¿En qué consisten las transformaciones Box-Cox, Z-Score y Max-Min? Describa al menos 2 ventajas y desventajas de cada una de estas transformaciones en una tabla comparativa. **(0.5 ptos)**\n",
    "\n",
<<<<<<< HEAD
    "Box-Cox: La transformación depende solamente de un parámetro lambda. Si el valor de lambda es igual a cero, se lleva a cabo la transformación logarítmica de la serie inicial, y si dicho valor es distinto a cero la transformación es potencial. Si el parámetro lambda es igual a uno, la ley de distribución de la serie inicial permanece sin cambios, aunque la serie cambia, ya que se resta una unidad a cada uno de sus valores.\n",
    "Desventajas: Solo es aplicable a las series con valores positivos o cero.\n",
    "Ventajas: Es probablemente la herramienta más versátil y eficiente entre las todas las de este tipo.\n",
=======
    "Box-Cox: La transformación está definida como una función continua que varía con respecto a la potencia lambda, donde, si lambda es cero, se lleva a cabo la transformación logarítmica de la serie inicial, y si es distinto a cero, la transformación es potencial.\n",
    "Desventajas: Solo es aplicable a las series con valores positivos o cero. Se necesita una busqueda de un lambda que logre que la transformación se acerque al máximo a los datos.\n",
    "Ventajas: Corrige varianzas desiguales. Es útil para corregir la no linealidad en la relación.\n",
>>>>>>> 93c80d1a37c18f000ff3ae61f397cab6553ebe2a
    "\n",
    "Z-Score: son transformaciones que se pueden hacer a los valores o puntuaciones de una distribución normal, con el propósito de analizar su distancia respecto a la media, expresándolas en unidades de desviación estándar.\n",
    "Desventajas: Es posible que el rango de valores generados no sea útil. No siempre queremos variables normales.\n",
    "Ventajas: Considera propiedades de la distribución. Es útil cuando el mínimo y máximo de A son desconocidos.\n",
<<<<<<< HEAD
    "\n",
    "Max-Min: Se hace una transformación lineal sobre los datos originales. Se calcula como el cociente de la diferencia entre el valor del indicador Xi y el valor mínimo Xmin, dividido por el rango absoluto (Xmax - Xmin).\n",
    "Desventajas: La distribución obtenida puede no ser la deseada. La variable puede perder interpretación.\n",
    "Ventajas: Es sencillo. Muy útil en modelos en que se conoce el mínimo y el máximo.\n",
=======
    "\n",
    "Max-Min: Se hace una transformación lineal sobre los datos originales. Se calcula como el cociente de la diferencia entre el valor del indicador Xi y el valor mínimo Xmin, dividido por el rango absoluto (Xmax - Xmin).\n",
    "Desventajas: La distribución obtenida puede no ser la deseada. La variable puede perder interpretación.\n",
    "Ventajas: Es muy sencillo. Es útil en modelos en que se conoce el mínimo y el máximo.\n",
    "\n",
>>>>>>> 93c80d1a37c18f000ff3ae61f397cab6553ebe2a
    "\n",
    "1.2 ¿Es estrictamente necesario realizar una transformación de los atributos en un proceso de minería de datos? ¿En qué casos podría no ser necesario? De al menos un ejemplo. **(0.5 ptos)**\n",
    "\n",
    "No es estrictamente necesario. Como ya sabemos, el objetivo de transformar los atributos es para codificar categorías, generar distintas variables comparables y normalizar. Sin embargo, si la base de datos que se entrega viene con el mismo tipo de data, normalizado, y no necesita más variables que las que contiene para poder generar el resultado deseado, en ese caso no sería necesario pasar por el proceso de transformación.\n",
    "\n",
    "Otro caso donde no es conveniente hacer transformaciones a la data es cuando se pretende mejorar la interpretabilidad de un modelo, por ejemplo cuando se quiere entrenar una árbol de clasificacioón para que sea interpretado por personas que no están entrenadas en estadística, donde son ellos quienes van a aplicar directamente las conclusiones, es conveniente dejar las variables en la escala donde ellos midan los fenómenos estudiados.\n",
    "\n",
    "1.3 Suponga que está analizando una encuesta con datos socioeconómicos (similar al Censo), y descubre que la variable **sueldo** tiene un 60% de datos perdidos. A qué tipo de dato perdido cree que corresponde: ¿MCAR, MAR, NMAR? Justique su elección ¿Qué haría con esta variable suponiendo que su objetivo es predecir nivel de estudios de una persona (enseñanza básica, media, universitaria, etc)? Explique. **(1.0 pto)**\n",
    "\n",
    "Los datos perdidos del sueldo corresponden a MAR, dado que, si las personas con bajos sueldos fueran menos propensas a reportarlos que las personas con mayores ganancias, la probabilidad de la pérdida de observaciones se correlaciona con el ingreso. Reemplazaría los valores con regresiones para obtener valores más precisos, a pesar de que ésto aumente las correlaciones. Dado que es probable que el sueldo esté relacionado con el nivel de estudios, descartaría las opciones que quizá afecten con mayor seriedad el resultado (eliminar, sustituír por media, mediana y/o moda, simple hot deck).\n",
    "\n",
    " ## 2. Aplicación, 4 ptos\n",
    "\n",
    " ---\n",
    " Considere el problema que enfrenta una entidad financiera que tiene altas tasas de fuga voluntaria. Esta institución no tiene claro cuál es el perfil característico que tienen los clientes fugitivos ni cuáles son las razones por las cuales estos se fugan.\n",
    "\n",
    " El gerente general le ha pedido **definir el patrón característico de los clientes fugitivos y de los clientes no fugitivos con el objetivo de definir una serie de políticas comerciales** que permitan retener a estos potenciales clientes fugitivos."
   ]
  },
  {
   "cell_type": "markdown",
   "metadata": {},
   "source": [
    " **Tareas:**\n",
    "\n",
    " 2.1 Resuelva los problemas de inconsistencia y valores pérdidos en la base de datos, justificando cada una de sus decisiones. Impute al menos una variable utilizando regresión lineal con el resto de columnas como regresores.\n",
    " **Nota**: no deben quedar valores perdidos. **(1.5 ptos)**\n",
    "\n",
    "\n",
    " 2.2 Aplique 2 métodos de transformación sobre 2 variables distintas, grafique la distribución antes y después. Comente si las transformaciones tienen sentido y cuál sería su utilidad **(1.0 pto)**\n",
    "\n",
    "\n",
    " 2.3 Aplique las técnicas de selección que considere pertinentes y elimine de la base aquellos atributos que no son relevantes según sus criterios, elimine al menos 2 **(1.0 pto)**\n",
    "\n",
    "\n",
    " 2.4 Comente respecto a patrones encontrados entre clientes fugitivos y no fugitivos. Apóyese en gráficos y test estadísticos. **(0.5 ptos)**\n",
    "\n",
    "\n",
    " ---\n",
    " Variable | Descripción\n",
    " ------------- | -------------\n",
    " 1. customer | ID\n",
    " 2. Age | Edad\n",
    " 3. Employ | Años en el mismo empleo\n",
    " 4. Address | Años viviendo en el mismo lugar\n",
    " 5. Income | Ingreso en USD\n",
    " 6. Debtinc | Ratio Ingreso/Deuda\n",
    " 7. Creddebt | Monto de deuda en tarjetas de crédito\n",
    " 8. OthDebt | Monto de otras deudas\n",
    " 9. Education | Nivel educacional\n",
    " 10. Nationality | Nacionalidad\n",
    " 11. Default | Variable objetivo"
   ]
  },
  {
   "cell_type": "code",
   "execution_count": 17,
   "metadata": {},
   "outputs": [],
   "source": [
    "# ms-python.python added\n",
    "import os\n",
    "import math\n",
    "import pandas as pd\n",
    "import numpy as np\n",
    "import seaborn as sns\n",
    "import matplotlib.pyplot as plt\n",
    "import random\n",
    "from sklearn.linear_model import LinearRegression\n",
    "try:\n",
    "\tos.chdir(os.path.join(os.getcwd(), 'lab 3'))\n",
    "\tprint(os.getcwd())\n",
    "except:\n",
    "\tpass"
   ]
  },
  {
   "cell_type": "markdown",
   "metadata": {},
   "source": [
    "### 2.1 Resuelva los problemas de inconsistencia y valores pérdidos en la base de datos, justificando cada una de sus decisiones. Impute al menos una variable utilizando regresión lineal con el resto de columnas como regresores."
   ]
  },
  {
   "cell_type": "code",
   "execution_count": 19,
   "metadata": {},
   "outputs": [],
   "source": [
    "url = \"https://raw.githubusercontent.com/Camiloez/lab3-dataset/master/data_lab.csv\"\n",
    "df = pd.read_csv(url)"
   ]
  },
  {
   "cell_type": "code",
   "execution_count": 20,
   "metadata": {},
   "outputs": [
    {
     "data": {
      "text/html": [
       "<div>\n",
       "<style scoped>\n",
       "    .dataframe tbody tr th:only-of-type {\n",
       "        vertical-align: middle;\n",
       "    }\n",
       "\n",
       "    .dataframe tbody tr th {\n",
       "        vertical-align: top;\n",
       "    }\n",
       "\n",
       "    .dataframe thead th {\n",
       "        text-align: right;\n",
       "    }\n",
       "</style>\n",
       "<table border=\"1\" class=\"dataframe\">\n",
       "  <thead>\n",
       "    <tr style=\"text-align: right;\">\n",
       "      <th></th>\n",
       "      <th>customer</th>\n",
       "      <th>Age</th>\n",
       "      <th>Employ</th>\n",
       "      <th>Address</th>\n",
       "      <th>Income</th>\n",
       "      <th>Debtinc</th>\n",
       "      <th>Creddebt</th>\n",
       "      <th>OthDebt</th>\n",
       "      <th>Education</th>\n",
       "      <th>Nationality</th>\n",
       "      <th>Default</th>\n",
       "    </tr>\n",
       "  </thead>\n",
       "  <tbody>\n",
       "    <tr>\n",
       "      <th>0</th>\n",
       "      <td>10012</td>\n",
       "      <td>28.0</td>\n",
       "      <td>7</td>\n",
       "      <td>2.0</td>\n",
       "      <td>44.0</td>\n",
       "      <td>17.7</td>\n",
       "      <td>2.99</td>\n",
       "      <td>4.80</td>\n",
       "      <td>Med</td>\n",
       "      <td>N</td>\n",
       "      <td>N</td>\n",
       "    </tr>\n",
       "    <tr>\n",
       "      <th>1</th>\n",
       "      <td>10017</td>\n",
       "      <td>64.0</td>\n",
       "      <td>34</td>\n",
       "      <td>17.0</td>\n",
       "      <td>116.0</td>\n",
       "      <td>14.7</td>\n",
       "      <td>5.05</td>\n",
       "      <td>12.00</td>\n",
       "      <td>Posg</td>\n",
       "      <td>N</td>\n",
       "      <td>N</td>\n",
       "    </tr>\n",
       "    <tr>\n",
       "      <th>2</th>\n",
       "      <td>10030</td>\n",
       "      <td>40.0</td>\n",
       "      <td>20</td>\n",
       "      <td>12.0</td>\n",
       "      <td>61.0</td>\n",
       "      <td>4.8</td>\n",
       "      <td>1.04</td>\n",
       "      <td>1.89</td>\n",
       "      <td>Bas</td>\n",
       "      <td>N</td>\n",
       "      <td>N</td>\n",
       "    </tr>\n",
       "    <tr>\n",
       "      <th>3</th>\n",
       "      <td>10039</td>\n",
       "      <td>30.0</td>\n",
       "      <td>11</td>\n",
       "      <td>3.0</td>\n",
       "      <td>27.0</td>\n",
       "      <td>34.5</td>\n",
       "      <td>1.75</td>\n",
       "      <td>7.56</td>\n",
       "      <td>Bas</td>\n",
       "      <td>N</td>\n",
       "      <td>N</td>\n",
       "    </tr>\n",
       "    <tr>\n",
       "      <th>4</th>\n",
       "      <td>10069</td>\n",
       "      <td>25.0</td>\n",
       "      <td>2</td>\n",
       "      <td>2.0</td>\n",
       "      <td>30.0</td>\n",
       "      <td>22.4</td>\n",
       "      <td>0.76</td>\n",
       "      <td>5.96</td>\n",
       "      <td>Bas</td>\n",
       "      <td>N</td>\n",
       "      <td>S</td>\n",
       "    </tr>\n",
       "  </tbody>\n",
       "</table>\n",
       "</div>"
      ],
      "text/plain": [
       "   customer   Age  Employ  Address  Income  Debtinc  Creddebt  OthDebt  \\\n",
       "0     10012  28.0       7      2.0    44.0     17.7      2.99     4.80   \n",
       "1     10017  64.0      34     17.0   116.0     14.7      5.05    12.00   \n",
       "2     10030  40.0      20     12.0    61.0      4.8      1.04     1.89   \n",
       "3     10039  30.0      11      3.0    27.0     34.5      1.75     7.56   \n",
       "4     10069  25.0       2      2.0    30.0     22.4      0.76     5.96   \n",
       "\n",
       "  Education Nationality Default  \n",
       "0       Med           N       N  \n",
       "1      Posg           N       N  \n",
       "2       Bas           N       N  \n",
       "3       Bas           N       N  \n",
       "4       Bas           N       S  "
      ]
     },
     "execution_count": 20,
     "metadata": {},
     "output_type": "execute_result"
    }
   ],
   "source": [
    "df.head(5)"
   ]
  },
  {
   "cell_type": "code",
   "execution_count": 21,
   "metadata": {},
   "outputs": [
    {
     "data": {
      "text/html": [
       "<div>\n",
       "<style scoped>\n",
       "    .dataframe tbody tr th:only-of-type {\n",
       "        vertical-align: middle;\n",
       "    }\n",
       "\n",
       "    .dataframe tbody tr th {\n",
       "        vertical-align: top;\n",
       "    }\n",
       "\n",
       "    .dataframe thead th {\n",
       "        text-align: right;\n",
       "    }\n",
       "</style>\n",
       "<table border=\"1\" class=\"dataframe\">\n",
       "  <thead>\n",
       "    <tr style=\"text-align: right;\">\n",
       "      <th></th>\n",
       "      <th>customer</th>\n",
       "      <th>Age</th>\n",
       "      <th>Employ</th>\n",
       "      <th>Address</th>\n",
       "      <th>Income</th>\n",
       "      <th>Debtinc</th>\n",
       "      <th>Creddebt</th>\n",
       "      <th>OthDebt</th>\n",
       "    </tr>\n",
       "  </thead>\n",
       "  <tbody>\n",
       "    <tr>\n",
       "      <th>count</th>\n",
       "      <td>1200.000000</td>\n",
       "      <td>1199.000000</td>\n",
       "      <td>1200.000000</td>\n",
       "      <td>1199.000000</td>\n",
       "      <td>1198.000000</td>\n",
       "      <td>1199.000000</td>\n",
       "      <td>1200.000000</td>\n",
       "      <td>1200.000000</td>\n",
       "    </tr>\n",
       "    <tr>\n",
       "      <th>mean</th>\n",
       "      <td>221336.065833</td>\n",
       "      <td>35.962469</td>\n",
       "      <td>7.062500</td>\n",
       "      <td>6.387823</td>\n",
       "      <td>60.000000</td>\n",
       "      <td>10.192494</td>\n",
       "      <td>2.002500</td>\n",
       "      <td>4.024317</td>\n",
       "    </tr>\n",
       "    <tr>\n",
       "      <th>std</th>\n",
       "      <td>132024.173652</td>\n",
       "      <td>57.447467</td>\n",
       "      <td>9.172897</td>\n",
       "      <td>6.094735</td>\n",
       "      <td>67.805486</td>\n",
       "      <td>6.859423</td>\n",
       "      <td>2.949625</td>\n",
       "      <td>5.619132</td>\n",
       "    </tr>\n",
       "    <tr>\n",
       "      <th>min</th>\n",
       "      <td>10012.000000</td>\n",
       "      <td>18.000000</td>\n",
       "      <td>0.000000</td>\n",
       "      <td>0.000000</td>\n",
       "      <td>-149.000000</td>\n",
       "      <td>0.100000</td>\n",
       "      <td>0.010000</td>\n",
       "      <td>0.010000</td>\n",
       "    </tr>\n",
       "    <tr>\n",
       "      <th>25%</th>\n",
       "      <td>89926.000000</td>\n",
       "      <td>24.000000</td>\n",
       "      <td>0.000000</td>\n",
       "      <td>2.000000</td>\n",
       "      <td>28.000000</td>\n",
       "      <td>4.900000</td>\n",
       "      <td>0.437500</td>\n",
       "      <td>1.137500</td>\n",
       "    </tr>\n",
       "    <tr>\n",
       "      <th>50%</th>\n",
       "      <td>269681.500000</td>\n",
       "      <td>31.000000</td>\n",
       "      <td>4.000000</td>\n",
       "      <td>5.000000</td>\n",
       "      <td>40.000000</td>\n",
       "      <td>8.800000</td>\n",
       "      <td>1.050000</td>\n",
       "      <td>2.325000</td>\n",
       "    </tr>\n",
       "    <tr>\n",
       "      <th>75%</th>\n",
       "      <td>343749.000000</td>\n",
       "      <td>42.000000</td>\n",
       "      <td>10.000000</td>\n",
       "      <td>9.500000</td>\n",
       "      <td>65.000000</td>\n",
       "      <td>13.900000</td>\n",
       "      <td>2.340000</td>\n",
       "      <td>4.742500</td>\n",
       "    </tr>\n",
       "    <tr>\n",
       "      <th>max</th>\n",
       "      <td>372571.000000</td>\n",
       "      <td>1970.000000</td>\n",
       "      <td>63.000000</td>\n",
       "      <td>34.000000</td>\n",
       "      <td>1079.000000</td>\n",
       "      <td>40.700000</td>\n",
       "      <td>35.970000</td>\n",
       "      <td>63.470000</td>\n",
       "    </tr>\n",
       "  </tbody>\n",
       "</table>\n",
       "</div>"
      ],
      "text/plain": [
       "            customer          Age       Employ      Address       Income  \\\n",
       "count    1200.000000  1199.000000  1200.000000  1199.000000  1198.000000   \n",
       "mean   221336.065833    35.962469     7.062500     6.387823    60.000000   \n",
       "std    132024.173652    57.447467     9.172897     6.094735    67.805486   \n",
       "min     10012.000000    18.000000     0.000000     0.000000  -149.000000   \n",
       "25%     89926.000000    24.000000     0.000000     2.000000    28.000000   \n",
       "50%    269681.500000    31.000000     4.000000     5.000000    40.000000   \n",
       "75%    343749.000000    42.000000    10.000000     9.500000    65.000000   \n",
       "max    372571.000000  1970.000000    63.000000    34.000000  1079.000000   \n",
       "\n",
       "           Debtinc     Creddebt      OthDebt  \n",
       "count  1199.000000  1200.000000  1200.000000  \n",
       "mean     10.192494     2.002500     4.024317  \n",
       "std       6.859423     2.949625     5.619132  \n",
       "min       0.100000     0.010000     0.010000  \n",
       "25%       4.900000     0.437500     1.137500  \n",
       "50%       8.800000     1.050000     2.325000  \n",
       "75%      13.900000     2.340000     4.742500  \n",
       "max      40.700000    35.970000    63.470000  "
      ]
     },
     "execution_count": 21,
     "metadata": {},
     "output_type": "execute_result"
    }
   ],
   "source": [
    "df.describe()\n"
   ]
  },
  {
   "cell_type": "code",
   "execution_count": 22,
   "metadata": {},
   "outputs": [
    {
     "data": {
      "text/plain": [
       "customer         int64\n",
       "Age            float64\n",
       "Employ           int64\n",
       "Address        float64\n",
       "Income         float64\n",
       "Debtinc        float64\n",
       "Creddebt       float64\n",
       "OthDebt        float64\n",
       "Education       object\n",
       "Nationality     object\n",
       "Default         object\n",
       "dtype: object"
      ]
     },
     "execution_count": 22,
     "metadata": {},
     "output_type": "execute_result"
    }
   ],
   "source": [
    "df.dtypes"
   ]
  },
  {
   "cell_type": "code",
   "execution_count": 23,
   "metadata": {},
   "outputs": [
    {
     "name": "stderr",
     "output_type": "stream",
     "text": [
      "C:\\Users\\sague\\Anaconda3\\lib\\site-packages\\numpy\\lib\\histograms.py:824: RuntimeWarning: invalid value encountered in greater_equal\n",
      "  keep = (tmp_a >= first_edge)\n",
      "C:\\Users\\sague\\Anaconda3\\lib\\site-packages\\numpy\\lib\\histograms.py:825: RuntimeWarning: invalid value encountered in less_equal\n",
      "  keep &= (tmp_a <= last_edge)\n"
     ]
    },
    {
     "data": {
      "image/png": "iVBORw0KGgoAAAANSUhEUgAAAXcAAAEICAYAAACktLTqAAAABHNCSVQICAgIfAhkiAAAAAlwSFlzAAALEgAACxIB0t1+/AAAADh0RVh0U29mdHdhcmUAbWF0cGxvdGxpYiB2ZXJzaW9uMy4xLjAsIGh0dHA6Ly9tYXRwbG90bGliLm9yZy+17YcXAAAgAElEQVR4nO3de3zU1b3v/9fHoHQrlyAaHIiYgtk1gBguEvso2xPMjlstB4pQLuXUqFhat/5+inp+pKeerTzOrgY9XnDrbrWH1tTjEZVdga3IERKpp7SRogSrUg8qaQnGcI3cNQnr98d3TRxJApPbzOSb9/PxmMd8Z30vs2bN5JP1Xd/1Xcucc4iISLicluwMiIhI51NwFxEJIQV3EZEQUnAXEQkhBXcRkRBScBcRCSEFd+kwM7vezH53kvXrzeymROZJpD3MLN/Mqtu4z3tmlt9FWWq3HhncfbDZb2a9k52XVKey6jpmVmVmf5/sfISNL9ejZnbQzOrM7Pdm9iMz63C8M7OnzeyfY9OccyOdc+s7euzO1uOCu5llAX8HOGBKUjOT4hJRVmbWqyuOKz3ef3TO9QUuAEqAhcDS5GYpsXpccAeuAyqAp4GiaKKZDTSzfzezA2b2RzP759imBjO7yMzWmtk+M/vAzGYmPusJd7KyWuXLaiMwPHYnMys0sz+b2Wdm9jhgMeuuN7MNZvaIme0D7vXpN5rZVn+W8L/N7AKfbn7bXf5475jZKL/uGjN739fQdprZXV1bHF0j2qxlZv/df/7tZnZ1zPqzzexXZvaJX78iZt0PzOxD/7tcZWaDY9Y5M/tHM9vmy+i/mdlwM/uD/+5eMLMzYrafbGaVMbXd0Ykrha7hnPvMObcKmAUUmdkoM+vty/qvZlZrZj83s7+J3c/M/ouZ7fFnAXN92nxgLvD/mdkhM/t3n950BmZm9/py/bUv8/fMbHzMcc83s9+Y2W4z2+v/Prrsw/eoB/Ah8I/AOKAeGOTTl/nHmcAIYAfwO7/uLP/6BqAXMBbYA4xM9udJYlm94MtlFLAzpqzOAQ4AM4DTgQVAA3CTX3+9f/3/+LL8G+A7/r1yfNrdwO/99v8AvAWkE/yTyAEifl0N8Hd+eQAwNtll1sbyrQL+3pdJPfADIA24GfgEML/dK8Dz/jOeDvwHn36F/x2OBXoD/wK8EXN8B6wC+gEjgc+BMmAY0B94Hyjy244FdgF5Pg9FPn+9k11O7S3XFtL/6sv2UV8uZwN9gX8H7vfb5Pvf58O+TP8DcBj4hl//NPDPrb0fQWXlGHCNL8f7gQq/Lg3YAjzi/3a+BkzssnJI9heR4C99ov8jOse//rMPPmk+/Rsx2/4zXwasWcD/OeFYTwL3JPszJbGsLorZ9r6Ysrou+mP2rw2o5qvB/a8nvNerwLyY16cBRwhOqa8A/i9wGXDaCfv9Ffgh0C/Z5dXOMq7iy+D+YUz6mQSB+TwgAhwHBrSw/1LggZjXffx3k+VfO+BbMevfAhbGvH4IeNQv/wz4bycc/wP8P5Lu9KD14F4B/MQH6+Ex6d8EtvvlfILgflbM+heA/+qXn+bUwX1dzLoRwNGY99kN9EpEOfS0Zpki4DXn3B7/+n/5tHMJaow7YraNXb4AyPOnq3VmVkdwenZeAvKcLG0pq7/ELA+OXeeCX3XstrTw+gJgSUzZ7iP4pzDEOVcOPA48AdSa2VNm1s/vN52ghvQXM/utmX2zfR81JXwaXXDOHfGLfYDzgX3Ouf0t7DOYmLJ3zh0C9gJDYrapjVk+2sLrPn75AuDOE37j5/v3CIshBL/dM4G3Yj7nGoLfddR+59zhmNd/oW3l8GnM8hHga/7a0vnAX5xzDe3KfRv1mItZvk1tJpBmZtHC701wuj+I4L91JkEtEYIvImoH8FvnXGGCsptUcZbV+QS1eYChMbvXEFN2ZmZ8tSwhqFHG2gH81Dn3bEv5cc49BjxmZhkEtaj/TFCT+iMw1cxOB2716058r+5uB3C2maU75+pOWPcJQVAGwMzOAgYSNJO1531+6pz7abtzmsLM7FKC4L6C4OLqSOdca+U0wMzOignwQ4F3/XJHhtHdAQw1s16JCPA9qeb+HaCR4DQp1z9ygP9D0JTwG+BeMzvTzC7yaVEvA39rZt83s9P941Izy0nsR0iYtpTVCGIuthK0D480s2t9beX/5dRnOD8HfmxmIwHMrL+ZfdcvX2pmeT6AHyZoz2w0szPMbK6Z9XfO1RO08zd2yqdPIc65GoJmq381swH+t3e5X/2/gBvMLNeCrqr3AW8656ra8Va/AH7ky9rM7Cwz+7aZ9e2UD5IkZtbPzCYTXCf6n865LQSf9RFfWcDMhpjZP5yw6yL/G/s7YDLwok+vJbhm0R4bCSo/Jb58v2Zm32rnsU6pJwX3IuBXzrm/Ouc+jT4ITvnnEtT8+hOcUj0DPEdwAQrn3EHgSmA2QW3pU2AxQW02jOIpqz4E5fA08Kvojr4Z57sE3c/2AtnAhpO9mXPuJYLyXGZmBwhqSdHeIv0I/hj3E5we7wX+u1/3faDK7/Mj4D917GOnrO8TtKX/meCi5+0Azrky4L8C/0YQNIYT/EbbzDm3ieCC7uMEZf0hwbWA7urfzewgQW35JwQXSG/w6xYSfL4K/9tZB3wjZt9PCcrgE+BZ4EfOuehZ6lJghG/SWUEbOOcagf8IXEhwvaia4Hpel4hejZcTmNli4DznXNEpNxYRSTE9qeZ+Uhb0Yx/tT0knAPOAl5KdLxGR9ugxF1Tj0JegKWYwwanvQ8DKpOZIRKSd1CwjIhJCapYREQmhUzbLmNnXgDcIeob0ApY75+4xs6cJbs39zG96vXOu0vdrXkJwc8kRn/72yd7jnHPOcVlZWe3+ED3BW2+9tcc5d+6pt2xO5XtyKtuu1d7yVdme2snKNp4298+BK5xzh3xf49+Z2at+3X92zi0/YfurCbq/ZROMU/Ez/9yqrKwsNm3aFEdWei4z+8upt2qZyvfkVLZtd+zYMS6//HI+//xzGhoamDFjBosWLeL666/nt7/9Lf379wfg6aefZsyYMX9pT6Wvp5ZtW5zst3vK4O5vHz/kX57uHydrqJ8K/NrvV2Fm6WYW8TdjiEgI9O7dm/Lycvr06UN9fT0TJ07k6quDWxMefPBBZsyYceIuba70ScfE1eZuZmlmVknQi2Stc+5Nv+qnFgzB+oh9OZnDEL46dkg1Xx3rInrM+Wa2ycw27d69uwMfoXvLysri4osvJjc3l/Hjg5FB9+3bR2FhIdnZ2RQWFrJ/fzCsiO+m+ZgFQ7y+Y2Zjk5l36bnMjD59gmFp6uvrqa+vJ6ict6qp0uecqwDSzSySgKz2WHEFd+dco3Mul2DslQkWjKf9Y+Ai4FKCoTMX+s1b+oab1fSdc08558Y758afe267mjtD4/XXX6eysrLpFLSkpISCggK2bdtGQUEBJSUl0U1jaz/zCWo/IknR2NhIbm4uGRkZFBYWkpcXVMR/8pOfMHr0aBYsWMDnn38e3VyVvgRrU28ZP3DReuAq51yN/y/8OcHt5xP8ZtV8dfCmTILbeCVOK1eupKgouDG2qKiIFSua7nJW7UdSRlpaGpWVlVRXV7Nx40beffdd7r//fv785z/zxz/+kX379rF48eLo5qr0Jdgpg7uZnWtm6X75bwjGn/5zNKj4CyXf4ctR01YB1/kmhMuAz9Te3joz48orr2TcuHE89dRTANTW1hKJBDE7Eomwa9eu6OZx1X78cVUDkoRIT08nPz+fNWvWEIlEMDN69+7NDTfcwMaNG6ObqdKXYPHU3CPA62b2DvBHgjb3l4FnzexPwJ8IZt+JThq7GviYYGCeXxDM5COt2LBhA2+//TavvvoqTzzxBG+88cbJNo+r9gOqAUnX2r17N3V1wQjER48eZd26dVx00UXU1AT1OOccK1asYNSoUdFdVOlLsHh6y7wDjGkh/YpWtnfALR3PWs8weHAwB0BGRgbTpk1j48aNDBo0iJqaGiKRCDU1NWRkZET/kFT7kZRQU1NDUVERjY2NHD9+nJkzZzJ58mSuuOIKdu/ejXOO3Nxcfv7zn0ebZlYTdIP8kKAr5A0nO750nMaWSaLDhw9z/Phx+vbty+HDh3nttdf4p3/6J6ZMmUJpaSnFxcWUlpYydepUHnzwQQhqP7ea2TKCbmSq/UhSjB49ms2bNzdLLy8vb3F7VfoST8E9iWpra5k2bRoADQ0NfO973+Oqq67i0ksvZebMmSxdupShQ4fy4osvRoO7aj8iEpeUDO5Zxa+0mF5V8u0E56RrDRs2jC1btjRLHzhwIGVlZc3SO6P201PKNhlaK1tQ+XYllXvLNHCYiEgIKbiLiISQgruISAgpuIuIhJCCu4hICCm4i4iEkIK7iEgIKbhLqD3yyCOMHDmSUaNGMWfOHI4dO8b27dvJy8sjOzubWbNmgR+zx8x6m9nzfrz8N80sK5l5F+kIBXcJrZ07d/LYY4+xadMm3n33XRobG1m2bBkLFy5kwYIFbNu2jQEDBkAw8B3APGC/c+5C4BFgcWvHFkl1Cu4Sag0NDRw9epSGhgaOHDlCJBKhvLy8aRo4P25+ut98KlDql5cDBXaK6YVEUpWCu4TWkCFDuOuuuxg6dCiRSIT+/fszbtw40tPT6dUrGHkjMzMT4IzoLvjx8p1zDcBnwMATj6ux8qU7UHCX0Nq/fz8rV65k+/btfPLJJxw+fJhXX321pU2jY+JrtiAJDQV3Ca1169bx9a9/nXPPPZfTTz+da6+9lt///vfU1dXR0NAAQHV1NUC936VpvHwz6wX0B/YlIesiHabgLqE1dOhQKioqOHLkCM45ysrKGDFiBJMmTWL58uUAlJaWAtT5XVYBRX55BlDuR+IU6XYU3CW08vLymDFjBmPHjuXiiy/m+PHjzJ8/n8WLF/Pwww9z4YUXsnfvXoA9fpelwEAz+xC4AyhOVt5FOiolx3MX6SyLFi1i0aJFX0kbNmxY7MTNmJkDcM4dA76b0AyKdBHV3EVEQkjBXUQkhE4Z3M3sa2a20cy2mNl7ZrbIp3/d36K9zd+yfYZP1y3cIiJJFk/N/XPgCufcJUAucJWZXUZwa/YjzrlsYD/BrdugW7hFQu/YsWNMmDCBSy65hJEjR3LPPfcANBu354svvgBU6UuGUwZ3FzjkX57uHw64guAWbQhu2f6OX9Yt3CIh17t3b8rLy9myZQuVlZWsWbOGioqKZuP2LF26NLqLKn0JFlebu5mlmVklsAtYC3wE1PlbtCG4+WOIX9Yt3CIhZ2b06dMHgPr6eurr6zGzZuP2rFixIrqLKn0JFldwd841OudygUxgApDT0mb+Wbdwi/QAjY2N5ObmkpGRQWFhIcOHD282bs/OnTujm8dV6ZPO06beMs65OmA9cBmQ7m/RhiDof+KXdQu3SA+QlpZGZWUl1dXVbNy4ka1btzbbJqZyHlelT2f0nSee3jLnmlm6X/4b4O+BrcDrBLdoQ3DL9kq/rFu4RXqQ9PR08vPzqaioaDZuz+DBg6ObxVXp0xl954mn5h4BXjezd4A/Amudcy8DC4E7/K3aAwlu3Qbdwi0Sert376auLhiS5+jRo6xbt46cnJxm4/ZMnTo1uosqfQl2yuEHnHPvAGNaSP+YoP39xHTdwi0ScjU1NRQVFdHY2Mjx48eZOXMmkydPZsSIEcyePZu7776bMWPGMG/ePG655RYIKn3P+ErfPmB2Uj9AD6CxZUSkzUaPHs3mzZubpZ84bk+UKn2Jp+EHRERCSMFdRCSEFNxFREJIwV1C64MPPiA3N7fp0a9fPx599FH27dtHYWEh2dnZFBYWAqQBWOAxP/7JO2Y2NrmfQKT9FNwltL7xjW9QWVlJZWUlb731FmeeeSbTpk2jpKSEgoICtm3bRkFBAcB5fpergWz/mA/8LElZF+kwBfcU0NjYyJgxY5g8eTKgkfW6QllZGcOHD+eCCy5g5cqVFBUFXa798wC/2VTg136wvAqCu7AjycmxSMcouKeAJUuWkJPz5XA9Glmv8y1btow5c+YAUFtbSyQSxGz/HO0S3DT+iRc7IJ5It6LgnmTV1dW88sor3HTTTQA45zSyXif74osvWLVqFd/97im7WWv8EwkNBfcku/3223nggQc47bTgq9i7d2+njKynAPSlV199lbFjxzJo0CAABg0aRE1NDUD0OXbo6vNjdo0dEK+Jxj+R7kDBPYlefvllMjIyGDduXFNaS8NttHVkPX8cBSDvueeea2qSAZgyZQqlpcEJkH+u86tWAdf5XjOXAZ8552oSnF2RTtGthh/IKn6l1XVVJd9OYE46x4YNG1i1ahWrV6/m2LFjHDhwgNtvv71pZL1evXo1jaz37rvvwpc1y2oNpxyfI0eOsHbtWp588smmtOLiYmbOnMnSpUsZOnQoQDSArwauAT4EjgA3JDq/Ip1FNfckuv/++6murqaqqoply5ZxxRVX8Oyzz2pkvU505plnsnfvXvr379+UNnDgQMrKyti2bRtlZWUAjdA0peQtzrnhzrmLnXObkpRtkQ5TcE9Bixcv5uGHH+bCCy9k7969zJsXnXtcwymLSHy6VbNMmOXn55Ofnw9oZD0R6TjV3EVEQkjBXUQkhBTcRURCSMFdRCSEFNxFREJIwV1EJIQU3EVEQuiUwd3Mzjez181sq5m9Z2a3+fR7zWynmVX6xzUx+/zYjzn+gZn9Q1d+ABERaS6emnsDcKdzLge4DLjFzEb4dY8453L9YzWAXzcbGAlcBfyrmaV1Qd5FJEl27NjBpEmTyMnJYeTIkSxZsgSAe++9lyFDhjRNbbh69eqmfVTpS6xT3qHqR8Wr8csHzWwrJ5/AYCqwzDn3ObDd3yo/AfhDJ+RXRFJAr169eOihhxg7diwHDx5k3Lhx0floWbBgAXfddddXtj+h0jcYWGdmf+uca0x03nuKNrW5+2ndxgBv+qRb/UTCvzSz6FRlcc1mo/HGRbqvSCTC2LHB/OF9+/YlJycndt6BljRV+pxz2wlG3pzQ9TntueIO7mbWB/g34Hbn3AGCyYOHA7kENfuHopu2sHuzkQs13rhIOFRVVbF582by8vIAePzxxxk9ejQ33ngj+/fvj26mSl+CxRXczex0gsD+rHPuNwDOuVrnXKNz7jjwC778LxzXbDYi0v0dOnSI6dOn8+ijj9KvXz9uvvlmPvroIyorK4lEItx5553RTVXpS7B4essYwVCzW51zD8ekx84KPw141y+vAmabWW8z+zqQDTQf4lBEurX6+nqmT5/O3Llzufbaa4FgCsO0tDROO+00fvCDH8SObqpKX4LFU3P/FvB94IoTuj0+YGZ/MrN3gEnAAgDn3HvAC8D7wBrgFl00kWSpq6tjxowZXHTRReTk5PCHP/yBffv2UVhYSHZ2dvQiYBoEFRkze8z36HjHzMYmN/epyznHvHnzyMnJ4Y477mhKj85NC/DSSy8xatSo6EtV+hIsnt4yv6PlU6rVLaRF9/kp8NMO5EukU9x2221cddVVLF++nC+++IIjR45w3333UVBQQHFxMSUlJaxbt+48v/nVBEEnG8gjuK6Ul6y8p7INGzbwzDPPcPHFF5ObmwvAfffdx3PPPUdlZSVmRlZWFk8++STPP/88zrn3zCxa6WsgQZW+1qbm7I7TcraVJuuQ0Dpw4ABvvPEGTz/9NABnnHEGZ5xxBitXrmT9+vUAFBUV8eMf/zja02sq8Gs/dWGFmaWbWUSTZDc3ceLEFidzv+aaa1rYOqBKX2Jp+AEJrY8//phzzz2XG264gTFjxnDTTTdx+PBhamtriUSCS0b+OVrJUY8OCQ0FdwmthoYG3n77bW6++WY2b97MWWedRUlJycl2UY8OCQ0FdwmtzMxMMjMzm/pfz5gxg7fffptBgwY1Xfjzzw1+F/XokNBQcJfQOu+88zj//PP54IMPACgrK2PEiBFMmTKF0tJSgOhznd9lFXCd7zVzGfCZ2tulu9IFVQm1f/mXf2Hu3Ll88cUXDBs2jF/96lccP36cmTNnsnTpUoYOHQp+7CSCHmDXENwafwS4IUnZFukwBXcJtdzcXDZt2tQsvaysrGnZzBoBfC+ZWxKWOZEupOAuIt1Ca33WpWVqcxcRCSEFdxGREFJwFxEJIQV3EZEQUnAXEQkhBXcRkRBScBcRCSEFdxGREFJwFxEJIQV3EZEQUnBPsmPHjjFhwgQuueQSRo4cyT333APA9u3bycvLIzs7m1mzZoEfa9zPQfm8n+fzTTPLSlrmRSRlKbgnWe/evSkvL2fLli1UVlayZs0aKioqWLhwIQsWLGDbtm0MGDAA4By/yzxgv3PuQuARYHGy8i4iqUvBPcnMjD59+gBQX19PfX09ZkZ5eTkzZswAgnk+gXS/y1Sg1C8vBwrMrKUZhESkB1NwTwGNjY3k5uaSkZFBYWEhw4cPJz09nV69gkE7MzMzAc7wmzfN8+mcawA+AwaeeEzN8ynSs50yuJvZ+Wb2upltNbP3zOw2n362ma01s23+eYBPNzN7zLcJv2NmY7v6Q3R3aWlpVFZWUl1dzcaNG9m6dWtLm0Xn8tQ8n22QlZXFxRdfTG5uLuPHjwdg3759FBYWkp2dTWFhIUAa6LfbFjt27GDSpEnk5OQwcuRIlixZAjQv2/379wMq22SIp+beANzpnMsBLgNuMbMRQDFQ5pzLBsr8a4CrgWz/mA/8rNNzHVLp6enk5+dTUVFBXV0dDQ3B1J7V1dUA9X6zpnk+zawX0B/Yl4Tsdhuvv/46lZWVTZN2lJSUUFBQwLZt2ygoKAA4z2+q326cevXqxUMPPcTWrVupqKjgiSee4P33329WtjETkqtsE+yUwd05V+Oce9svHwS2EjQNxLb9lgLf8ctTgV+7QAWQbmaRTs95SOzevZu6umAKz6NHj7Ju3TpycnKYNGkSy5cvB1qc57PIL88Ayv0MQhKnlStXRq9jRJ8H+FX67cYpEokwdmxQ+e7bty85OTns3LmzWdmuWLEiuovKNsHa1Obuu92NAd4EBkUnD/bPGX6zpjZhr9qnnXgstQkDNTU1TJo0idGjR3PppZdSWFjI5MmTWbx4MQ8//DAXXnghe/fuBdjjd1kKDDSzD4E7+PKMSVpgZlx55ZWMGzeOp556CoDa2loikSCu+OfojGRx/Xblq6qqqti8eTN5eXnNynbXrl3RzVS2CRb3NHtm1gf4N+B259yBk3TQiLtNGHgKYPz48T225jl69Gg2b97cLH3YsGFs3Lix6bWZOQDn3DHguwnLYDe3YcMGBg8ezK5duygsLOSiiy462eZx/XbNbD5B00J0gu0e69ChQ0yfPp1HH32Ufv36nWxTlW2CxVVzN7PTCQL7s8653/jk2uhplX+O/otuahP2MoFPOie7Im0zePBgADIyMpg2bRobN25k0KBB1NTUAESfG/zmcf12dbE6UF9fz/Tp05k7dy7XXnstQLOyzciIntCrbBMtnt4yRtAUsNU593DMqti23yJgZUz6df7q+GXAZ9HmG5FEOnz4MAcPHmxafu211xg1ahRTpkyJXsdo6XqGfrtxcM4xb948cnJyuOOOO5rSTyzbqVOnRlepbBMsnmaZbwHfB/5kZpU+7b8AJcALZjYP+CtfNhWsBq4BPgSOADd0ao5b0drM6FUl307E20sKqq2tZdq0aQA0NDTwve99j6uuuopLL72UmTNnsnTp0uipfzTIJOW32x1t2LCBZ555pqmbKcB9991HcXHxV8r2xRdf5MEHHwSVbcKdMrg7535Hy+1lAAUtbO+AWzqYL5EOGzZsGFu2bGmWPnDgQMrKyppem1kj6LfbFhMnTqS1TlqxZRulsk083aEqIhJCCu4iIiGk4C4iEkIK7iIiIRT3TUzdVWu9aEA9aUQkvFRzFxEJodDX3EVETtQTzuhVcxcRCSEFdxGREFJwFxEJIQV3EZEQUnAXEQkhBXcRkRBScBcRCSEFdxGREFJwFxEJIQV3Cb3GxkbGjBnD5MmTAdi+fTt5eXlkZ2cza9Ys8JPRmFlvM3vezD40szfNLCtpmRbpIA0/IEC4b8desmQJOTk5HDhwAICFCxeyYMECZs+ezY9+9COAc/ym84D9zrkLzWw2sBiYlZRMi3SQau4SatXV1bzyyivcdNNNQDCxc3l5OTNmzACgqKgIIN1vPhUo9cvLgQI/QbxIt6PgLqF2++2388ADD3DaacFPfe/evaSnp9OrV3DSmpmZCXCG33wIsAPAOdcAfAYMPPGYZjbfzDaZ2abdu3d3/YcQaQcFdwmtl19+mYyMDMaNG9eU1sqkztHElmrpzXZwzj3lnBvvnBt/7rnndkpeRTrbKYO7mf3SzHaZ2bsxafea2U4zq/SPa2LW/dhfkPrAzP6hqzIuciobNmxg1apVZGVlMXv2bMrLy7n99tupq6ujoaEBCJptgHq/SzVwPoCZ9QL6A/uSkHWRDoun5v40cFUL6Y8453L9YzWAmY0AZgMj/T7/amZpnZVZkba4//77qa6upqqqimXLlnHFFVfw7LPPMmnSJJYvXw5AaWkpQJ3fZRVQ5JdnAOWulap+T3fjjTeSkZHBqFGjmtLuvfdehgwZQm5uLrm5uaxevbppnSp9iXfK3jLOuTfa0CVsKrDMOfc5sN3MPgQmAH9odw4l6cLWk2bx4sXMnj2bu+++mzFjxgDs8auWAs/43+0+goqKtOD666/n1ltv5brrrvtK+oIFC7jrrrtO3PxrfFnpGwysM7O/dc41JiSzPVRHukLeambXAZuAO51z+wkuSFXEbFPt00SSKj8/n/z8fACGDRvGxo0bm9aZmQNwzh0DvpuM/HU3l19+OVVVVfFung48oUpfYrX3gurPgOFALlADPOTT47ogBepxIBJGjz/+OKNHj+bGG29k//790eQz8L2QvFYrfYoLnaddwd05V+uca3TOHQd+QfBfGGIuSHmZwCetHEM9DkRC5Oabb+ajjz6isrKSSCTCnXfeebLNW+62pLjQadoV3M0sEvNyGhDtSbMKmO1v4/46kA1sPHF/EQmfQYMGkZaWxmmnncYPfvCD2KavL4iz0ied55Rt7mb2HJAPnGNm1cA9QL6Z5RL8960CfgjgnHZT4GgAAA9ESURBVHvPzF4A3gcagFt00USkZ6ipqSESCep9L730UmxPmjqCSt/DBBdUVelLgHh6y8xpIXnpSbb/KfDTjmSqp9ixYwfXXXcdn376Kaeddhrz58/ntttuY9++fcyaNYuqqiqysrJ44YUXAPC3wi8BrgGOANc7595O4keQHmrOnDmsX7+ePXv2kJmZyaJFi1i/fj2VlZWYGVlZWTz55JPRzY8BL6FKX0Jp4LAk6tWrFw899BBjx47l4MGDjBs3jsLCQp5++mkKCgooLi6mpKSEkpKS6C5XE9R6soE8ggvbeUnKvvRgzz33XLO0efPmtbq9Kn2Jp+CeRJFIpOk0tm/fvuTk5LBz505WrlzJ+vXrgWBgq2gXPoL7CH7tb6ypMLN0M4s452oSn3sRSWUaWyZFVFVVsXnzZvLy8qitrW0K+pFIhF27dkU3axrYylOXMhFpkYJ7Cjh06BDTp0/n0UcfpV+/fifbNO77CNSlTKRnU3BPsvr6eqZPn87cuXO59tprgaBLWU1N0NJSU1NDRkZGdPO47yMQkZ5NwT2JnHPMmzePnJwc7rjjjqb0KVOmRAe0orS0lKlTp0ZXrQKus8BlwGdqbxeRlii4J9GGDRt45plnKC8v/8pIesXFxaxdu5bs7GzWrl1LcXFxdJfVwMfAhwR3Bv9jsvIuIqlNvWWSaOLEia1NHkFZWVmzNN9L5pYuzpaIhIBq7iIiIaTgLiISQgruElrHjh1jwoQJXHLJJYwcOZJ77rkHgO3bt5OXl0d2djazZs0C38XUD3j3vJ8x6M02TFIjknIU3CW0evfuTXl5OVu2bKGyspI1a9ZQUVHBwoULWbBgAdu2bWPAgAEA5/hd5gH7nXMXAo8Ai5OVd5GOUnCX0DIz+vTpAwT3E9TX12NmlJeXM2PGDCAY3oFgpiAIhnco9cvLgQI/WJtIt6PgLqHW2NhIbm4uGRkZFBYWMnz4cNLT0+nVK+golpmZCcFMQRAzvINzrgH4DBh44jE1tIN0BwruEmppaWlUVlZSXV3Nxo0b2bp1a0ubRfujxjW8g4Z2kO5AwV16hPT0dPLz86moqKCuro6GhgYAqqurAer9Zk3DO5hZL6A/sC8J2RXpMAV3Ca3du3dTV1cHwNGjR1m3bh05OTlMmjSJ5cuXA0SHeajzu6wCivzyDKDctXaXmUiK0x2qElo1NTUUFRXR2NjI8ePHmTlzJpMnT2bEiBHMnj2bu+++mzFjxgDs8bssBZ4xsw8Jauyzk5V3kY5ScJfQGj16NJs3b26WPmzYsNjJmzEzB+CcOwZ8N2EZFOlCapYREQkhBXcRkRBScBcRCaFTBncz+6WZ7TKzd2PSzjaztWa2zT8P8OlmZo/5sTneMbOxXZl5ERFpWTw196eBq05IKwbKnHPZQJl/DXA1kO0f84GfdU42RSSV3HjjjWRkZDBq1KimtH379lFYWEh2djaFhYXs37+/aZ0qfYl3yuDunHuD5jdyxI7BUQp8Jyb91y5QAaSbWaSzMisiqeH6669nzZo1X0krKSmhoKCAbdu2UVBQQElJSXRVf1TpS7j2trkPis7d6Z+jMzg3jc3hVfu0ZjQ+h0j3dfnll3P22Wd/JW3lypXRgdgoKipixYoV0VXpqNKXcJ19QTWusTlA43OIhE1tbS2RSBCzI5EIu3btiq46HVX6Eq69wb02+p/XP0e/xaaxObxM4JP2Z09EQkqVvi7W3jtUo2NwlPjnlTHpt5rZMiAP+CzafCMi4TZo0CBqamqIRCLU1NSQkRFtraWeblTpyyp+pdV1VSXfTmBOOuaUwd3MngPygXPMrBq4hyCov2Bm84C/8uUt26uBa4APgSPADV2QZ5Fup7WA0Z2CxalMmTKF0tJSiouLKS0tZerUqdFVdcB1qvQl1imDu3NuTiurClrY1gG3dDRTIpLa5syZw/r169mzZw+ZmZksWrSI4uJiZs6cydKlSxk6dCgvvvhidPPPgI9RpS+hevTAYWE5/RJJtOeee67F9LKyshbTnXOq9CWYhh8QEQkhBXcRkRBScBcRCSEFdwmtHTt2MGnSJHJychg5ciRLliwBmo+BAqSBBr6TcFFwl9Dq1asXDz30EFu3bqWiooInnniC999/v9kYKMB5fhcNfCehoeAuoRWJRBg7Nqh89+3bl5ycHHbu3NlsDBRggN9FA99JaCi4S49QVVXF5s2bycvLazYGCl92CY5r4DuNfyLdgYK7hN6hQ4eYPn06jz76KP369TvZpnENfKfxT6Q7UHCXUKuvr2f69OnMnTuXa6+9FvhyDBQg+tzgN9fAdxIaCu5J1pYZbVKxN0dW8SstPlKBc4558+aRk5PDHXfc0ZQeHQMFiD7X+VWrCMZAMTO7DI2BIt2YgnuStXFGG/XmaIMNGzbwzDPPUF5eTm5uLrm5uaxevZri4mLWrl1LdnY2a9euBYgG8NV8OQbKL4B/TFLWRTqsR48tkwouv/xyqqqqvpK2cuVK1q9fDwS9OfLz86OrmnpzABVmlm5mEdUuWzZx4kSComoudgwUM2sEDXwn4aKaewo6yYw2msZQROKi4N69aBpDEYmLgnsKOrE3R8yMNurNISJxUXBPQSf25oiZ0Ua9OUQkLgruSTZnzhy++c1v8sEHH5CZmcnSpUub9eYoLi6Obq7eHCISF/WWSbK2zGij3hwiEi/V3EVEQkg1dxGROLV293UqzrmsmruISAh1qOZuZlXAQaARaHDOjTezs4HngSygCpjpnNvfsWyKSHeRlZVF3759SUtLo1evIMQoLiReZ9TcJznncp1z4/3rYqDMOZcNlPnXItKDvP7661RWVrJp06ZokuJCgnVFm/tUIN8vlwLrgYVd8D5dqju1rYl0A6GIC91JR4O7A14zMwc86Zx7ChgUvbHGOVdjZhkt7Whm8wlGNmTo0KEdzIaIpAoz48orr8TM+OEPfxhNVlxIsI4G92855z7xX9RaM/tzvDv6fwRPAYwfP77loftEpNvZsGEDgwcPZteuXRQWFgL0iXdfxYXO06Hg7pz7xD/vMrOXgAlAbXQYWj+58K6THqSbOdlEFGqyEYHBgwcDkJGRwbRp03jnnXfOIuRxIRW1+4KqmZ1lZn2jy8CVwLsE458U+c2KgJUdzaRIe3T3Wa66o8OHD3Pw4MGm5ddeew3gKIoLCdeR3jKDgN+Z2RZgI/CKc24NUAIUmtk2oNC/Fkk4zXKVeLW1tUycOJFLLrmECRMm8O1vfxvgAIoLCdfuZhnn3MfAJS2k7wUKOpIpkc6gWa4Sb9iwYWzZsuUraXfffbfiQhLoDlXpUTTLlfQUCu4iAc1yJaGi4C49ima5kp5CwV16FM1yJT2FhvyVLpEK9wPMmTOH9evXs2fPHjIzM1m0aBHFxcXMnDmTpUuXMnToUF588UUefPBBCGa5uoZglqsjwA0JyaRIF1Fwl9DSLFfSk6lZRkQkhFRzl4RLhSYbkbBTzV1EJIQU3EVEQkjNMiIiHZSKTY0K7iJJlIpBQcJBzTIiIiGkmrukFM1dK9I5FNw7kQKTiJwoWXFBwV26BbVNi7SN2txFREJINXeRFKWzFekI1dxFREJIwV1EJIQU3EVEQkht7iIiSdDV11S6LLib2VXAEiAN+B/OuZKueq9U19lfosq263SXsu2u91R0l/INgy5pljGzNOAJ4GpgBDDHzEZ0xXv1NCrbrqOy7Voq38Tqqpr7BOBD59zHAGa2DJgKvN9F79eTqGxPcLIzo9a0UsPt9mXbnrJor3acJXT78k2Uzjjb76rgPgTYEfO6GsiL3cDM5gPz/ctDZvZBnMc+B9jT4Rwm7rgnPbYtjvsYF/jnU5YtnLR8u/JzdlTC8nZCufeEsu2oZp+tK3673bxsE5LHVn67zXRVcLcW0txXXjj3FPBUmw9stsk5N769GUv0cbvg2KcsW2i9fLvyc3ZUCuQttGXbUZ302dodF7pD2aZaHruqK2Q1cH7M60zgky56r55GZdt1VLZdS+WbQF0V3P8IZJvZ183sDGA2sKqL3qunUdl2HZVt11L5JlCXNMs45xrM7FbgfxN0efqlc+69Tjp8m5tyknzcTj12J5RtV37Ojkpq3kJeth3V4c/WwfLtDmWbUnk055o1KYqISDen4QdEREJIwV1EJIRSNrib2flm9rqZbTWz98zsNp9+r5ntNLNK/7imncevMrM/+WNs8mlnm9laM9vmnwe047jfiMlbpZkdMLPbOyvf7WVmV5nZB2b2oZkVJ/K9W8hLa99th8s/WVKpfNurLX8TFnjMf953zGxsF+Yrpcq2q2NTp3HOpeQDiABj/XJf4P8S3LJ8L3BXJxy/CjjnhLQHgGK/XAws7uB7pAGfEtxo0Cn57kA+PgKGAWcAW4ARKfjddmr599Ty7cDniPtvArgGeJWg7/plwJs9pWy7OjZ11iNla+7OuRrn3Nt++SCwleAOt640FSj1y6XAdzp4vALgI+fcXzp4nI5quu3bOfcFEL3tOylO8t12dvknSkqVbydr7TuZCvzaBSqAdDOLdMH7p1zZJik2tVnKBvdYZpYFjAHe9Em3+lPBX3bg1N0Br5nZW/6WZ4BBzrkaCL5AIKMD2YagH+9zMa87I9/t0dJt3ynxYzzhu+3s8k+UlC3fNmrL30SiPnNKl20XxaZOkfLB3cz6AP8G3O6cOwD8DBgO5AI1wEPtPPS3nHNjCUaou8XMLu+M/Eb5mzSmAC/6pM7Kd7uy00Ja0vvAtvDddlcpWb7t0Ja/iUR95pQt2y6MTZ0ipYO7mZ1OUHjPOud+A+Ccq3XONTrnjgO/IDhtazPn3Cf+eRfwkj9ObfTU0j/v6kD2rwbeds7Vdma+2ynlbvtu6bulc8s/kVKufNujjX8TifrMKVm2XRmbOkvKBnczM2ApsNU593BMemy73jTg3XYc+ywz6xtdBq70x1kFFPnNioCV7cs9AHOIaZLpjHx3QErd9t3ad0vnln8ipVT5tkc7/iZWAdf5XjOXAZ9Fm286WcqVbVfGpk6V7Cu6J7kiPZHg9OsdoNI/rgGeAf7k01cBkXYcexjBVfctwHvAT3z6QKAM2Oafz25n3s8E9gL9Y9I6nO8Oluc1BFf1P4p+3hT8bjul/JP0mVKmfNuZ/zb9TRA0lzzhP++fgPE9pWy7MjZ15kPDD4iIhFDKNsuIiEj7KbiLiISQgruISAgpuIuIhJCCu4hICCm4i4iEkIK7iEgI/f+mfmpIinLixAAAAABJRU5ErkJggg==\n",
      "text/plain": [
       "<Figure size 432x288 with 4 Axes>"
      ]
     },
     "metadata": {
      "needs_background": "light"
     },
     "output_type": "display_data"
    }
   ],
   "source": [
    "fig, df_plot=plt.subplots(nrows=1,ncols=4)\n",
    "df_plot[0].hist(df['Age'], range=[17,90])\n",
    "df_plot[0].set_title('Age')\n",
    "df_plot[1].hist(df['Address'])\n",
    "df_plot[1].set_title('Address')\n",
    "df_plot[2].hist(df['Income'], range=[0,600])\n",
    "df_plot[2].set_title('Income')\n",
    "df_plot[3].hist(df['Debtinc'])\n",
    "df_plot[3].set_title('Debtinc')\n",
    "df_plot\n",
    "\n",
    "\n",
    "modi_df=df.copy()"
   ]
  },
  {
   "cell_type": "code",
   "execution_count": 24,
   "metadata": {},
   "outputs": [
    {
     "data": {
      "text/plain": [
       "<matplotlib.axes._subplots.AxesSubplot at 0x1ddb762c080>"
      ]
     },
     "execution_count": 24,
     "metadata": {},
     "output_type": "execute_result"
    },
    {
     "data": {
      "image/png": "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\n",
      "text/plain": [
       "<Figure size 432x288 with 1 Axes>"
      ]
     },
     "metadata": {
      "needs_background": "light"
     },
     "output_type": "display_data"
    }
   ],
   "source": [
    "pd.Series(df['Education']).value_counts().plot('bar')"
   ]
  },
  {
   "cell_type": "code",
   "execution_count": 25,
   "metadata": {},
   "outputs": [
    {
     "data": {
      "text/plain": [
       "customer       False\n",
       "Age             True\n",
       "Employ         False\n",
       "Address         True\n",
       "Income          True\n",
       "Debtinc         True\n",
       "Creddebt       False\n",
       "OthDebt        False\n",
       "Education       True\n",
       "Nationality    False\n",
       "Default        False\n",
       "dtype: bool"
      ]
     },
     "execution_count": 25,
     "metadata": {},
     "output_type": "execute_result"
    }
   ],
   "source": [
    "df.isna().any(axis = 0)"
   ]
  },
  {
   "cell_type": "markdown",
   "metadata": {},
   "source": [
    " La cantidad de datos faltantes o errados para el dataset es pequeña en relación a su tamaño, por lo que el método utilizado para imputar los datos no va a tener un impacto muy significativo en el comportamiento del DF, aprovechando esta característica y la distribución con una sola moda de los datos se reemplaza los enteros por la moda de la columna asumiendo que son datos MCR.\n",
    " \n",
    " Los datos relacionados con las características financieras del DF se supone que son datos NMAR, por lo que (siguiendo la indicación del enunciado) se imputan usando una aproximación lineal para las filas con datos faltantes. Se aprovechó de utilizar la funcionalidad de imputar dentro de pandas para la variable de deuda, ya que se utilizó la forma tradicional para el ingreso."
   ]
  },
  {
   "cell_type": "code",
   "execution_count": 26,
   "metadata": {},
   "outputs": [],
   "source": [
    "moda_edad =  float(df['Age'].mode())\n",
    "# se reemplazan los valores fuera de rango por NA asumiendo que el dato es invalido\n",
    "modi_df.loc[modi_df['Age']>100 , 'Age'] = np.nan\n",
    "#debido a que son pocos valores se reemplaza por la moda de la edad y tiempo en la misma vivienda\n",
    "modi_df['Age'].fillna(value = moda_edad, inplace=True)\n",
    "moda_adress = float(df['Address'].mode())\n",
    "modi_df['Address'].fillna(value=moda_adress,inplace=True)"
   ]
  },
  {
   "cell_type": "code",
   "execution_count": 27,
   "metadata": {},
   "outputs": [
    {
     "data": {
      "text/html": [
       "<div>\n",
       "<style scoped>\n",
       "    .dataframe tbody tr th:only-of-type {\n",
       "        vertical-align: middle;\n",
       "    }\n",
       "\n",
       "    .dataframe tbody tr th {\n",
       "        vertical-align: top;\n",
       "    }\n",
       "\n",
       "    .dataframe thead th {\n",
       "        text-align: right;\n",
       "    }\n",
       "</style>\n",
       "<table border=\"1\" class=\"dataframe\">\n",
       "  <thead>\n",
       "    <tr style=\"text-align: right;\">\n",
       "      <th></th>\n",
       "      <th>customer</th>\n",
       "      <th>Age</th>\n",
       "      <th>Employ</th>\n",
       "      <th>Address</th>\n",
       "      <th>Debtinc</th>\n",
       "      <th>Creddebt</th>\n",
       "      <th>OthDebt</th>\n",
       "    </tr>\n",
       "  </thead>\n",
       "  <tbody>\n",
       "    <tr>\n",
       "      <th>65</th>\n",
       "      <td>11712</td>\n",
       "      <td>35.0</td>\n",
       "      <td>6</td>\n",
       "      <td>5.0</td>\n",
       "      <td>2.5</td>\n",
       "      <td>0.45</td>\n",
       "      <td>0.20</td>\n",
       "    </tr>\n",
       "    <tr>\n",
       "      <th>152</th>\n",
       "      <td>61844</td>\n",
       "      <td>39.0</td>\n",
       "      <td>9</td>\n",
       "      <td>5.0</td>\n",
       "      <td>9.2</td>\n",
       "      <td>2.08</td>\n",
       "      <td>3.44</td>\n",
       "    </tr>\n",
       "  </tbody>\n",
       "</table>\n",
       "</div>"
      ],
      "text/plain": [
       "     customer   Age  Employ  Address  Debtinc  Creddebt  OthDebt\n",
       "65      11712  35.0       6      5.0      2.5      0.45     0.20\n",
       "152     61844  39.0       9      5.0      9.2      2.08     3.44"
      ]
     },
     "execution_count": 27,
     "metadata": {},
     "output_type": "execute_result"
    }
   ],
   "source": [
    "#los valores faltantes del ingreso se imputan \"manualmente\" usando reg lineal suponiendo que son datos NMAR\n",
    "linreg = LinearRegression()\n",
    "modi_income_temp = modi_df.copy()\n",
    "modi_income_temp = modi_income_temp.drop(columns=['Default','Education','Nationality'])\n",
    "modi_temp_x = modi_income_temp[modi_income_temp['Income'].notnull()].drop(columns=\"Income\", axis=1)\n",
    "modi_temp_y = modi_income_temp[modi_income_temp['Income'].notnull()]\n",
    "\n",
    "modi_test = modi_income_temp[modi_income_temp['Income'].isnull()].drop(\"Income\", axis=1)\n",
    "modi_test"
   ]
  },
  {
   "cell_type": "code",
   "execution_count": 28,
   "metadata": {},
   "outputs": [],
   "source": [
    "modi_temp_x = modi_temp_x.astype(float).fillna(0.0)\n",
    "modi_test = modi_test.astype(float, errors='ignore').fillna(0.0)\n",
    "modi_temp_y = modi_temp_y.astype(float).fillna(0.0)"
   ]
  },
  {
   "cell_type": "code",
   "execution_count": 29,
   "metadata": {},
   "outputs": [
    {
     "name": "stderr",
     "output_type": "stream",
     "text": [
      "C:\\Users\\sague\\Anaconda3\\lib\\site-packages\\ipykernel_launcher.py:3: SettingWithCopyWarning: \n",
      "A value is trying to be set on a copy of a slice from a DataFrame\n",
      "\n",
      "See the caveats in the documentation: http://pandas.pydata.org/pandas-docs/stable/indexing.html#indexing-view-versus-copy\n",
      "  This is separate from the ipykernel package so we can avoid doing imports until\n"
     ]
    }
   ],
   "source": [
    "#entrenar modelo lineal para ingreso\n",
    "linreg.fit(modi_temp_x,modi_temp_y)\n",
    "predicted = linreg.predict(modi_test)\n",
    "modi_df.Income[modi_df.Income.isnull()] = predicted"
   ]
  },
  {
   "cell_type": "code",
   "execution_count": 37,
   "metadata": {},
   "outputs": [
    {
     "data": {
      "text/plain": [
       "1200"
      ]
     },
     "execution_count": 37,
     "metadata": {},
     "output_type": "execute_result"
    }
   ],
   "source": [
    "# se imputa la deuda utilizando el mismo ranzonamiento que para el ingreso, esta vez utilizando pandas\n",
    "modi_df['Debtinc'].interpolate(method='linear', inplace= True)\n",
    "#notar que el r=largo del DF modificado es igual al del DF original\n",
    "len(modi_df)"
   ]
  },
  {
   "cell_type": "markdown",
   "metadata": {},
   "source": [
    "### 2.2 Aplique 2 métodos de transformación sobre 2 variables distintas, grafique la distribución antes y después. Comente si las transformaciones tienen sentido y cuál sería su utilidad"
   ]
  },
  {
   "cell_type": "markdown",
   "metadata": {},
   "source": [
    "Las transformaciones a utilizar van a ser logaritmo y Z-Score para los atributos de Income y Debtinc respectivamente."
   ]
  },
  {
   "cell_type": "code",
   "execution_count": 31,
   "metadata": {
    "scrolled": true
   },
   "outputs": [
    {
     "data": {
      "text/plain": [
       "Text(0.5, 1.0, 'Debtinc')"
      ]
     },
     "execution_count": 31,
     "metadata": {},
     "output_type": "execute_result"
    },
    {
     "data": {
      "image/png": "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\n",
      "text/plain": [
       "<Figure size 432x288 with 2 Axes>"
      ]
     },
     "metadata": {
      "needs_background": "light"
     },
     "output_type": "display_data"
    }
   ],
   "source": [
    "fig, df_mod=plt.subplots(nrows=1,ncols=2)\n",
    "df_mod[0].hist(modi_df['Income'])\n",
    "df_mod[0].set_title('Income')\n",
    "df_mod[1].hist(modi_df['Debtinc'])\n",
    "df_mod[1].set_title('Debtinc')\n"
   ]
  },
  {
   "cell_type": "markdown",
   "metadata": {},
   "source": [
    "La transformación de logaritmo del ingreso permite expandir la distribución de intgreso del DF, esto permite hacer comparaciones de sueldo de manera más fácil.\n",
    "\n",
    "La transformación de Z-score para la variable de deuda permite entender el monto adeudado de manera comparativa en relación con el resto del DF. Esta transformación permite "
   ]
  },
  {
   "cell_type": "code",
   "execution_count": 35,
   "metadata": {},
   "outputs": [
    {
     "name": "stderr",
     "output_type": "stream",
     "text": [
      "C:\\Users\\sague\\Anaconda3\\lib\\site-packages\\ipykernel_launcher.py:2: RuntimeWarning: invalid value encountered in log\n",
      "  \n"
     ]
    }
   ],
   "source": [
    "trans_df = modi_df.copy()\n",
    "trans_df['Income']= np.log(trans_df['Income'])\n",
    "trans_df['Debtinc']=stats.zscore(trans_df['Debtinc'])\n"
   ]
  },
  {
   "cell_type": "code",
   "execution_count": 36,
   "metadata": {
    "scrolled": true
   },
   "outputs": [
    {
     "name": "stderr",
     "output_type": "stream",
     "text": [
      "C:\\Users\\sague\\Anaconda3\\lib\\site-packages\\numpy\\lib\\histograms.py:824: RuntimeWarning: invalid value encountered in greater_equal\n",
      "  keep = (tmp_a >= first_edge)\n",
      "C:\\Users\\sague\\Anaconda3\\lib\\site-packages\\numpy\\lib\\histograms.py:825: RuntimeWarning: invalid value encountered in less_equal\n",
      "  keep &= (tmp_a <= last_edge)\n"
     ]
    },
    {
     "data": {
      "text/plain": [
       "Text(0.5, 1.0, 'Debtinc')"
      ]
     },
     "execution_count": 36,
     "metadata": {},
     "output_type": "execute_result"
    },
    {
     "data": {
      "image/png": "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\n",
      "text/plain": [
       "<Figure size 432x288 with 2 Axes>"
      ]
     },
     "metadata": {
      "needs_background": "light"
     },
     "output_type": "display_data"
    }
   ],
   "source": [
    "fig, df_after=plt.subplots(nrows=1,ncols=2)\n",
    "df_after[0].hist(trans_df['Income'])\n",
    "df_after[0].set_title('Income')\n",
    "df_after[1].hist(trans_df['Debtinc'])\n",
    "df_after[1].set_title('Debtinc')\n",
    "\n"
   ]
  },
  {
   "cell_type": "markdown",
   "metadata": {},
   "source": [
    "### 2.3 Aplique las técnicas de selección que considere pertinentes y elimine de la base aquellos atributos que no son relevantes según sus criterios, elimine al menos 2.\n",
    "\n",
    "Notar que la columna de nacionalidad de botó anteriormente ya que no contiene información, por lo que no es rescatable ni aporta información para el problema que se quiere estudiar."
   ]
  },
  {
   "cell_type": "code",
   "execution_count": 15,
   "metadata": {},
   "outputs": [
    {
     "data": {
      "text/plain": [
       "array([ 0.70710678,  0.70710678, -1.41421356])"
      ]
     },
     "execution_count": 15,
     "metadata": {},
     "output_type": "execute_result"
    }
   ],
   "source": [
    "from scipy import stats\n",
    "a = [1, 1, 0.9]\n",
    "stats.zscore(a)\n",
    "#modi_df['Debtinc']= \n",
    "#stats.zscore(modi_df['Debtinc'])\n"
   ]
  },
  {
   "cell_type": "code",
   "execution_count": 172,
   "metadata": {},
   "outputs": [
    {
     "name": "stdout",
     "output_type": "stream",
     "text": [
      "customer    132024.173652\n",
      "Age             13.252015\n",
      "Employ           9.172897\n",
      "Address          6.094983\n",
      "Income         343.120621\n",
      "Debtinc          6.857070\n",
      "Creddebt         2.949625\n",
      "OthDebt          5.619132\n",
      "dtype: float64\n"
     ]
    }
   ],
   "source": [
    "print(modi_df.std())"
   ]
  },
  {
   "cell_type": "code",
   "execution_count": 173,
   "metadata": {},
   "outputs": [
    {
     "data": {
      "text/plain": [
       "<matplotlib.axes._subplots.AxesSubplot at 0x1b4c028aba8>"
      ]
     },
     "execution_count": 173,
     "metadata": {},
     "output_type": "execute_result"
    },
    {
     "data": {
      "image/png": "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\n",
      "text/plain": [
       "<Figure size 432x288 with 2 Axes>"
      ]
     },
     "metadata": {
      "needs_background": "light"
     },
     "output_type": "display_data"
    }
   ],
   "source": [
    "corr = modi_df.corr()\n",
    "sns.heatmap(corr, \n",
    "            xticklabels=corr.columns.values,\n",
    "            yticklabels=corr.columns.values)"
   ]
  },
  {
   "cell_type": "markdown",
   "metadata": {},
   "source": [
    "Probar independencia de OthDebt con Employ"
   ]
  },
  {
   "cell_type": "code",
   "execution_count": 174,
   "metadata": {},
   "outputs": [
    {
     "data": {
      "text/html": [
       "<div>\n",
       "<style scoped>\n",
       "    .dataframe tbody tr th:only-of-type {\n",
       "        vertical-align: middle;\n",
       "    }\n",
       "\n",
       "    .dataframe tbody tr th {\n",
       "        vertical-align: top;\n",
       "    }\n",
       "\n",
       "    .dataframe thead th {\n",
       "        text-align: right;\n",
       "    }\n",
       "</style>\n",
       "<table border=\"1\" class=\"dataframe\">\n",
       "  <thead>\n",
       "    <tr style=\"text-align: right;\">\n",
       "      <th>Employ</th>\n",
       "      <th>0</th>\n",
       "      <th>1</th>\n",
       "      <th>2</th>\n",
       "      <th>3</th>\n",
       "      <th>4</th>\n",
       "      <th>5</th>\n",
       "      <th>6</th>\n",
       "      <th>7</th>\n",
       "      <th>8</th>\n",
       "      <th>9</th>\n",
       "      <th>...</th>\n",
       "      <th>40</th>\n",
       "      <th>42</th>\n",
       "      <th>43</th>\n",
       "      <th>44</th>\n",
       "      <th>45</th>\n",
       "      <th>48</th>\n",
       "      <th>50</th>\n",
       "      <th>51</th>\n",
       "      <th>53</th>\n",
       "      <th>63</th>\n",
       "    </tr>\n",
       "    <tr>\n",
       "      <th>OthDebt</th>\n",
       "      <th></th>\n",
       "      <th></th>\n",
       "      <th></th>\n",
       "      <th></th>\n",
       "      <th></th>\n",
       "      <th></th>\n",
       "      <th></th>\n",
       "      <th></th>\n",
       "      <th></th>\n",
       "      <th></th>\n",
       "      <th></th>\n",
       "      <th></th>\n",
       "      <th></th>\n",
       "      <th></th>\n",
       "      <th></th>\n",
       "      <th></th>\n",
       "      <th></th>\n",
       "      <th></th>\n",
       "      <th></th>\n",
       "      <th></th>\n",
       "      <th></th>\n",
       "    </tr>\n",
       "  </thead>\n",
       "  <tbody>\n",
       "    <tr>\n",
       "      <th>0.01</th>\n",
       "      <td>1</td>\n",
       "      <td>0</td>\n",
       "      <td>0</td>\n",
       "      <td>0</td>\n",
       "      <td>0</td>\n",
       "      <td>0</td>\n",
       "      <td>0</td>\n",
       "      <td>0</td>\n",
       "      <td>1</td>\n",
       "      <td>0</td>\n",
       "      <td>...</td>\n",
       "      <td>0</td>\n",
       "      <td>0</td>\n",
       "      <td>0</td>\n",
       "      <td>0</td>\n",
       "      <td>0</td>\n",
       "      <td>0</td>\n",
       "      <td>0</td>\n",
       "      <td>0</td>\n",
       "      <td>0</td>\n",
       "      <td>0</td>\n",
       "    </tr>\n",
       "    <tr>\n",
       "      <th>0.07</th>\n",
       "      <td>0</td>\n",
       "      <td>0</td>\n",
       "      <td>1</td>\n",
       "      <td>0</td>\n",
       "      <td>0</td>\n",
       "      <td>0</td>\n",
       "      <td>0</td>\n",
       "      <td>0</td>\n",
       "      <td>0</td>\n",
       "      <td>0</td>\n",
       "      <td>...</td>\n",
       "      <td>0</td>\n",
       "      <td>0</td>\n",
       "      <td>0</td>\n",
       "      <td>0</td>\n",
       "      <td>0</td>\n",
       "      <td>0</td>\n",
       "      <td>0</td>\n",
       "      <td>0</td>\n",
       "      <td>0</td>\n",
       "      <td>0</td>\n",
       "    </tr>\n",
       "    <tr>\n",
       "      <th>0.09</th>\n",
       "      <td>4</td>\n",
       "      <td>1</td>\n",
       "      <td>0</td>\n",
       "      <td>0</td>\n",
       "      <td>0</td>\n",
       "      <td>0</td>\n",
       "      <td>0</td>\n",
       "      <td>0</td>\n",
       "      <td>0</td>\n",
       "      <td>0</td>\n",
       "      <td>...</td>\n",
       "      <td>0</td>\n",
       "      <td>0</td>\n",
       "      <td>0</td>\n",
       "      <td>0</td>\n",
       "      <td>0</td>\n",
       "      <td>0</td>\n",
       "      <td>0</td>\n",
       "      <td>0</td>\n",
       "      <td>0</td>\n",
       "      <td>0</td>\n",
       "    </tr>\n",
       "    <tr>\n",
       "      <th>0.10</th>\n",
       "      <td>0</td>\n",
       "      <td>2</td>\n",
       "      <td>0</td>\n",
       "      <td>0</td>\n",
       "      <td>0</td>\n",
       "      <td>0</td>\n",
       "      <td>0</td>\n",
       "      <td>0</td>\n",
       "      <td>0</td>\n",
       "      <td>0</td>\n",
       "      <td>...</td>\n",
       "      <td>0</td>\n",
       "      <td>0</td>\n",
       "      <td>0</td>\n",
       "      <td>0</td>\n",
       "      <td>0</td>\n",
       "      <td>0</td>\n",
       "      <td>0</td>\n",
       "      <td>0</td>\n",
       "      <td>0</td>\n",
       "      <td>0</td>\n",
       "    </tr>\n",
       "    <tr>\n",
       "      <th>0.11</th>\n",
       "      <td>0</td>\n",
       "      <td>1</td>\n",
       "      <td>1</td>\n",
       "      <td>0</td>\n",
       "      <td>0</td>\n",
       "      <td>0</td>\n",
       "      <td>0</td>\n",
       "      <td>0</td>\n",
       "      <td>0</td>\n",
       "      <td>0</td>\n",
       "      <td>...</td>\n",
       "      <td>0</td>\n",
       "      <td>0</td>\n",
       "      <td>0</td>\n",
       "      <td>0</td>\n",
       "      <td>0</td>\n",
       "      <td>0</td>\n",
       "      <td>0</td>\n",
       "      <td>0</td>\n",
       "      <td>0</td>\n",
       "      <td>0</td>\n",
       "    </tr>\n",
       "  </tbody>\n",
       "</table>\n",
       "<p>5 rows × 49 columns</p>\n",
       "</div>"
      ],
      "text/plain": [
       "Employ   0   1   2   3   4   5   6   7   8   9   ...  40  42  43  44  45  48  \\\n",
       "OthDebt                                          ...                           \n",
       "0.01      1   0   0   0   0   0   0   0   1   0  ...   0   0   0   0   0   0   \n",
       "0.07      0   0   1   0   0   0   0   0   0   0  ...   0   0   0   0   0   0   \n",
       "0.09      4   1   0   0   0   0   0   0   0   0  ...   0   0   0   0   0   0   \n",
       "0.10      0   2   0   0   0   0   0   0   0   0  ...   0   0   0   0   0   0   \n",
       "0.11      0   1   1   0   0   0   0   0   0   0  ...   0   0   0   0   0   0   \n",
       "\n",
       "Employ   50  51  53  63  \n",
       "OthDebt                  \n",
       "0.01      0   0   0   0  \n",
       "0.07      0   0   0   0  \n",
       "0.09      0   0   0   0  \n",
       "0.10      0   0   0   0  \n",
       "0.11      0   0   0   0  \n",
       "\n",
       "[5 rows x 49 columns]"
      ]
     },
     "execution_count": 174,
     "metadata": {},
     "output_type": "execute_result"
    }
   ],
   "source": [
    "# Cálculo de frecuencias\n",
    "pd.crosstab(modi_df['OthDebt'], modi_df['Employ']).head()"
   ]
  },
  {
   "cell_type": "code",
   "execution_count": 175,
   "metadata": {},
   "outputs": [
    {
     "name": "stdout",
     "output_type": "stream",
     "text": [
      "CHI-test : Rechazamos supuesto de independencia entre variables\n",
      "p-value : 0% \\n\n"
     ]
    }
   ],
   "source": [
    "from scipy.stats import chi2_contingency\n",
    "\n",
    "p_value_chi = chi2_contingency(pd.crosstab(modi_df['OthDebt'], modi_df['Employ']))[1]\n",
    "if p_value_chi < 0.05:\n",
    "    print('CHI-test : Rechazamos supuesto de independencia entre variables')\n",
    "    print('p-value : {0}% \\\\n'.format(int(p_value_chi*100)))\n",
    "else:\n",
    "    print('CHI-test : No rechazamos el supuesto de independencia entre variables')\n",
    "    print('p-value: {0}% \\\\n'.format(int(p_value_chi*100)))"
   ]
  },
  {
   "cell_type": "markdown",
   "metadata": {},
   "source": [
    "Ahora es necesario hacer el test para ver independencia entre Creddebt y Employ"
   ]
  },
  {
   "cell_type": "code",
   "execution_count": 176,
   "metadata": {},
   "outputs": [
    {
     "data": {
      "text/html": [
       "<div>\n",
       "<style scoped>\n",
       "    .dataframe tbody tr th:only-of-type {\n",
       "        vertical-align: middle;\n",
       "    }\n",
       "\n",
       "    .dataframe tbody tr th {\n",
       "        vertical-align: top;\n",
       "    }\n",
       "\n",
       "    .dataframe thead th {\n",
       "        text-align: right;\n",
       "    }\n",
       "</style>\n",
       "<table border=\"1\" class=\"dataframe\">\n",
       "  <thead>\n",
       "    <tr style=\"text-align: right;\">\n",
       "      <th>Employ</th>\n",
       "      <th>0</th>\n",
       "      <th>1</th>\n",
       "      <th>2</th>\n",
       "      <th>3</th>\n",
       "      <th>4</th>\n",
       "      <th>5</th>\n",
       "      <th>6</th>\n",
       "      <th>7</th>\n",
       "      <th>8</th>\n",
       "      <th>9</th>\n",
       "      <th>...</th>\n",
       "      <th>40</th>\n",
       "      <th>42</th>\n",
       "      <th>43</th>\n",
       "      <th>44</th>\n",
       "      <th>45</th>\n",
       "      <th>48</th>\n",
       "      <th>50</th>\n",
       "      <th>51</th>\n",
       "      <th>53</th>\n",
       "      <th>63</th>\n",
       "    </tr>\n",
       "    <tr>\n",
       "      <th>Creddebt</th>\n",
       "      <th></th>\n",
       "      <th></th>\n",
       "      <th></th>\n",
       "      <th></th>\n",
       "      <th></th>\n",
       "      <th></th>\n",
       "      <th></th>\n",
       "      <th></th>\n",
       "      <th></th>\n",
       "      <th></th>\n",
       "      <th></th>\n",
       "      <th></th>\n",
       "      <th></th>\n",
       "      <th></th>\n",
       "      <th></th>\n",
       "      <th></th>\n",
       "      <th></th>\n",
       "      <th></th>\n",
       "      <th></th>\n",
       "      <th></th>\n",
       "      <th></th>\n",
       "    </tr>\n",
       "  </thead>\n",
       "  <tbody>\n",
       "    <tr>\n",
       "      <th>0.01</th>\n",
       "      <td>1</td>\n",
       "      <td>0</td>\n",
       "      <td>0</td>\n",
       "      <td>0</td>\n",
       "      <td>0</td>\n",
       "      <td>0</td>\n",
       "      <td>0</td>\n",
       "      <td>0</td>\n",
       "      <td>0</td>\n",
       "      <td>0</td>\n",
       "      <td>...</td>\n",
       "      <td>0</td>\n",
       "      <td>0</td>\n",
       "      <td>0</td>\n",
       "      <td>0</td>\n",
       "      <td>0</td>\n",
       "      <td>0</td>\n",
       "      <td>0</td>\n",
       "      <td>0</td>\n",
       "      <td>0</td>\n",
       "      <td>0</td>\n",
       "    </tr>\n",
       "    <tr>\n",
       "      <th>0.02</th>\n",
       "      <td>2</td>\n",
       "      <td>1</td>\n",
       "      <td>1</td>\n",
       "      <td>0</td>\n",
       "      <td>0</td>\n",
       "      <td>0</td>\n",
       "      <td>1</td>\n",
       "      <td>0</td>\n",
       "      <td>0</td>\n",
       "      <td>0</td>\n",
       "      <td>...</td>\n",
       "      <td>0</td>\n",
       "      <td>0</td>\n",
       "      <td>0</td>\n",
       "      <td>0</td>\n",
       "      <td>0</td>\n",
       "      <td>0</td>\n",
       "      <td>0</td>\n",
       "      <td>0</td>\n",
       "      <td>0</td>\n",
       "      <td>0</td>\n",
       "    </tr>\n",
       "    <tr>\n",
       "      <th>0.03</th>\n",
       "      <td>3</td>\n",
       "      <td>0</td>\n",
       "      <td>0</td>\n",
       "      <td>0</td>\n",
       "      <td>1</td>\n",
       "      <td>0</td>\n",
       "      <td>0</td>\n",
       "      <td>0</td>\n",
       "      <td>1</td>\n",
       "      <td>0</td>\n",
       "      <td>...</td>\n",
       "      <td>0</td>\n",
       "      <td>0</td>\n",
       "      <td>0</td>\n",
       "      <td>0</td>\n",
       "      <td>0</td>\n",
       "      <td>0</td>\n",
       "      <td>0</td>\n",
       "      <td>0</td>\n",
       "      <td>0</td>\n",
       "      <td>0</td>\n",
       "    </tr>\n",
       "    <tr>\n",
       "      <th>0.04</th>\n",
       "      <td>1</td>\n",
       "      <td>0</td>\n",
       "      <td>0</td>\n",
       "      <td>1</td>\n",
       "      <td>1</td>\n",
       "      <td>0</td>\n",
       "      <td>0</td>\n",
       "      <td>0</td>\n",
       "      <td>0</td>\n",
       "      <td>0</td>\n",
       "      <td>...</td>\n",
       "      <td>0</td>\n",
       "      <td>0</td>\n",
       "      <td>0</td>\n",
       "      <td>0</td>\n",
       "      <td>0</td>\n",
       "      <td>0</td>\n",
       "      <td>0</td>\n",
       "      <td>0</td>\n",
       "      <td>0</td>\n",
       "      <td>0</td>\n",
       "    </tr>\n",
       "    <tr>\n",
       "      <th>0.05</th>\n",
       "      <td>2</td>\n",
       "      <td>0</td>\n",
       "      <td>0</td>\n",
       "      <td>0</td>\n",
       "      <td>1</td>\n",
       "      <td>0</td>\n",
       "      <td>0</td>\n",
       "      <td>0</td>\n",
       "      <td>0</td>\n",
       "      <td>0</td>\n",
       "      <td>...</td>\n",
       "      <td>0</td>\n",
       "      <td>0</td>\n",
       "      <td>0</td>\n",
       "      <td>0</td>\n",
       "      <td>0</td>\n",
       "      <td>0</td>\n",
       "      <td>0</td>\n",
       "      <td>0</td>\n",
       "      <td>0</td>\n",
       "      <td>0</td>\n",
       "    </tr>\n",
       "  </tbody>\n",
       "</table>\n",
       "<p>5 rows × 49 columns</p>\n",
       "</div>"
      ],
      "text/plain": [
       "Employ    0   1   2   3   4   5   6   7   8   9   ...  40  42  43  44  45  48  \\\n",
       "Creddebt                                          ...                           \n",
       "0.01       1   0   0   0   0   0   0   0   0   0  ...   0   0   0   0   0   0   \n",
       "0.02       2   1   1   0   0   0   1   0   0   0  ...   0   0   0   0   0   0   \n",
       "0.03       3   0   0   0   1   0   0   0   1   0  ...   0   0   0   0   0   0   \n",
       "0.04       1   0   0   1   1   0   0   0   0   0  ...   0   0   0   0   0   0   \n",
       "0.05       2   0   0   0   1   0   0   0   0   0  ...   0   0   0   0   0   0   \n",
       "\n",
       "Employ    50  51  53  63  \n",
       "Creddebt                  \n",
       "0.01       0   0   0   0  \n",
       "0.02       0   0   0   0  \n",
       "0.03       0   0   0   0  \n",
       "0.04       0   0   0   0  \n",
       "0.05       0   0   0   0  \n",
       "\n",
       "[5 rows x 49 columns]"
      ]
     },
     "execution_count": 176,
     "metadata": {},
     "output_type": "execute_result"
    }
   ],
   "source": [
    "pd.crosstab(modi_df['Creddebt'], modi_df['Employ']).head()"
   ]
  },
  {
   "cell_type": "code",
   "execution_count": 177,
   "metadata": {},
   "outputs": [
    {
     "name": "stdout",
     "output_type": "stream",
     "text": [
      "CHI-test : Rechazamos supuesto de independencia entre variables\n",
      "p-value : 0% \\n\n"
     ]
    }
   ],
   "source": [
    "from scipy.stats import chi2_contingency\n",
    "\n",
    "p_value_chi = chi2_contingency(pd.crosstab(modi_df['Creddebt'], modi_df['Employ']))[1]\n",
    "if p_value_chi < 0.05:\n",
    "    print('CHI-test : Rechazamos supuesto de independencia entre variables')\n",
    "    print('p-value : {0}% \\\\n'.format(int(p_value_chi*100)))\n",
    "else:\n",
    "    print('CHI-test : No rechazamos el supuesto de independencia entre variables')\n",
    "    print('p-value: {0}% \\\\n'.format(int(p_value_chi*100)))"
   ]
  },
  {
   "cell_type": "markdown",
   "metadata": {},
   "source": [
    "Al realizar los test de independencia, se comprueba que son variables que por un lado tienen varianza pequeña y además son independientes de aquellas variables con las que tienen mayor correlación."
   ]
  },
  {
   "cell_type": "markdown",
   "metadata": {},
   "source": [
    "Por tanto, procedemos a eliminar los atributos que muestran independencia respecto a Employ, es decir, OthDebt y Creddebt."
   ]
  },
  {
   "cell_type": "code",
   "execution_count": 178,
   "metadata": {},
   "outputs": [
    {
     "data": {
      "text/html": [
       "<div>\n",
       "<style scoped>\n",
       "    .dataframe tbody tr th:only-of-type {\n",
       "        vertical-align: middle;\n",
       "    }\n",
       "\n",
       "    .dataframe tbody tr th {\n",
       "        vertical-align: top;\n",
       "    }\n",
       "\n",
       "    .dataframe thead th {\n",
       "        text-align: right;\n",
       "    }\n",
       "</style>\n",
       "<table border=\"1\" class=\"dataframe\">\n",
       "  <thead>\n",
       "    <tr style=\"text-align: right;\">\n",
       "      <th></th>\n",
       "      <th>customer</th>\n",
       "      <th>Age</th>\n",
       "      <th>Employ</th>\n",
       "      <th>Address</th>\n",
       "      <th>Income</th>\n",
       "      <th>Debtinc</th>\n",
       "      <th>Education</th>\n",
       "      <th>Nationality</th>\n",
       "      <th>Default</th>\n",
       "    </tr>\n",
       "  </thead>\n",
       "  <tbody>\n",
       "    <tr>\n",
       "      <th>0</th>\n",
       "      <td>10012</td>\n",
       "      <td>28.0</td>\n",
       "      <td>7</td>\n",
       "      <td>2.0</td>\n",
       "      <td>44.0</td>\n",
       "      <td>17.7</td>\n",
       "      <td>Med</td>\n",
       "      <td>N</td>\n",
       "      <td>N</td>\n",
       "    </tr>\n",
       "    <tr>\n",
       "      <th>1</th>\n",
       "      <td>10017</td>\n",
       "      <td>64.0</td>\n",
       "      <td>34</td>\n",
       "      <td>17.0</td>\n",
       "      <td>116.0</td>\n",
       "      <td>14.7</td>\n",
       "      <td>Posg</td>\n",
       "      <td>N</td>\n",
       "      <td>N</td>\n",
       "    </tr>\n",
       "    <tr>\n",
       "      <th>2</th>\n",
       "      <td>10030</td>\n",
       "      <td>40.0</td>\n",
       "      <td>20</td>\n",
       "      <td>12.0</td>\n",
       "      <td>61.0</td>\n",
       "      <td>4.8</td>\n",
       "      <td>Bas</td>\n",
       "      <td>N</td>\n",
       "      <td>N</td>\n",
       "    </tr>\n",
       "    <tr>\n",
       "      <th>3</th>\n",
       "      <td>10039</td>\n",
       "      <td>30.0</td>\n",
       "      <td>11</td>\n",
       "      <td>3.0</td>\n",
       "      <td>27.0</td>\n",
       "      <td>34.5</td>\n",
       "      <td>Bas</td>\n",
       "      <td>N</td>\n",
       "      <td>N</td>\n",
       "    </tr>\n",
       "    <tr>\n",
       "      <th>4</th>\n",
       "      <td>10069</td>\n",
       "      <td>25.0</td>\n",
       "      <td>2</td>\n",
       "      <td>2.0</td>\n",
       "      <td>30.0</td>\n",
       "      <td>22.4</td>\n",
       "      <td>Bas</td>\n",
       "      <td>N</td>\n",
       "      <td>S</td>\n",
       "    </tr>\n",
       "  </tbody>\n",
       "</table>\n",
       "</div>"
      ],
      "text/plain": [
       "   customer   Age  Employ  Address  Income  Debtinc Education Nationality  \\\n",
       "0     10012  28.0       7      2.0    44.0     17.7       Med           N   \n",
       "1     10017  64.0      34     17.0   116.0     14.7      Posg           N   \n",
       "2     10030  40.0      20     12.0    61.0      4.8       Bas           N   \n",
       "3     10039  30.0      11      3.0    27.0     34.5       Bas           N   \n",
       "4     10069  25.0       2      2.0    30.0     22.4       Bas           N   \n",
       "\n",
       "  Default  \n",
       "0       N  \n",
       "1       N  \n",
       "2       N  \n",
       "3       N  \n",
       "4       S  "
      ]
     },
     "execution_count": 178,
     "metadata": {},
     "output_type": "execute_result"
    }
   ],
   "source": [
    "modi_df.drop(['OthDebt', 'Creddebt'], axis='columns', inplace=True)\n",
    "modi_df.head(5)"
   ]
  },
  {
   "cell_type": "markdown",
   "metadata": {},
   "source": [
    "### 2.4 Comente respecto a patrones encontrados entre clientes fugitivos y no fugitivos. Apóyese en gráficos y test estadísticos."
   ]
  },
  {
   "cell_type": "code",
   "execution_count": 179,
   "metadata": {},
   "outputs": [
    {
     "data": {
      "text/plain": [
       "<matplotlib.axes._subplots.AxesSubplot at 0x1b4c17680b8>"
      ]
     },
     "execution_count": 179,
     "metadata": {},
     "output_type": "execute_result"
    },
    {
     "data": {
      "image/png": "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\n",
      "text/plain": [
       "<Figure size 432x288 with 1 Axes>"
      ]
     },
     "metadata": {
      "needs_background": "light"
     },
     "output_type": "display_data"
    }
   ],
   "source": [
    "modi_df = modi_df.groupby(['Education', 'Default']).size().reset_index(name='COUNT')\n",
    "sns.barplot(x='Education', y='COUNT', hue='Default', data=modi_df)"
   ]
  },
  {
   "cell_type": "markdown",
   "metadata": {},
   "source": [
    "Como se observa en el gráfico, el nivel Medio de educación tiene mayor proporción de No fuga, mientras que en el nivel basico están los clientes fugitivos en cuanto a su proporción."
   ]
  },
  {
   "cell_type": "code",
   "execution_count": 16,
   "metadata": {},
   "outputs": [
    {
     "data": {
      "text/plain": [
       "<matplotlib.axes._subplots.AxesSubplot at 0x1ddb73c52b0>"
      ]
     },
     "execution_count": 16,
     "metadata": {},
     "output_type": "execute_result"
    },
    {
     "data": {
      "image/png": "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\n",
      "text/plain": [
       "<Figure size 432x288 with 1 Axes>"
      ]
     },
     "metadata": {
      "needs_background": "light"
     },
     "output_type": "display_data"
    }
   ],
   "source": [
    "sns.scatterplot(x='Age', y='Income',  hue='Default', data=modi_df)"
   ]
  }
 ],
 "metadata": {
  "file_extension": ".py",
  "kernelspec": {
   "display_name": "Python 3",
   "language": "python",
   "name": "python3"
  },
  "language_info": {
   "codemirror_mode": {
    "name": "ipython",
    "version": 3
   },
   "file_extension": ".py",
   "mimetype": "text/x-python",
   "name": "python",
   "nbconvert_exporter": "python",
   "pygments_lexer": "ipython3",
   "version": "3.7.3"
  },
  "mimetype": "text/x-python",
  "name": "python",
  "npconvert_exporter": "python",
  "pygments_lexer": "ipython3",
  "version": 3
 },
 "nbformat": 4,
 "nbformat_minor": 2
}
