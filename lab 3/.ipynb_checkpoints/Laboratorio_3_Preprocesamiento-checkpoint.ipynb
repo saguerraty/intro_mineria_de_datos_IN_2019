{
 "cells": [
  {
   "cell_type": "markdown",
   "metadata": {
    "colab_type": "text",
    "id": "kFDOnM9cYF8m"
   },
   "source": [
    "## Integrantes\n",
    "\n",
    "1. Sebastian Guerraty\n",
    "2. María José Jiménez\n",
    "3. Gabriela Alfaro"
   ]
  },
  {
   "cell_type": "markdown",
   "metadata": {
    "colab_type": "text",
    "id": "zvI7SjhwYKbK"
   },
   "source": [
    "# Instrucciones\n",
    "\n",
    "El laboratorio tiene 6 ptos, donde obtener 6 ptos equivale a un 7.0 y 0 ptos un 1.0. \n",
    "\n",
    "El formato de entrega será subir a u-cursos un Jupyter notebook\n",
    "laboratorio1.ipynb, que se debe ejecutar sin errores desde la primera celda a la última. Todo el código debe estar en el mismo notebook, el código debe estar comentado y testeado, el notebook debe estar escrito en forma de informe técnico, escribiendo una celda markdown antes o después de cada celda de código que arroja algún output. "
   ]
  },
  {
   "cell_type": "markdown",
   "metadata": {
    "colab_type": "text",
    "id": "PeKVYpJJaGSr"
   },
   "source": [
    "## 1. Teórico, 2 ptos \n",
    "\n",
    "1.1 ¿En qué consisten las transformaciones Box-Cox, Z-Score y\n",
    "Max-Min? Describa al menos 2 ventajas y desventajas de cada una de\n",
    "estas transformaciones en una tabla comparativa. **(0.5 ptos)**\n",
    "\n",
    "1.2 ¿Es estrictamente necesario realizar una transformación de los\n",
    "atributos en un proceso de minería de datos? ¿En qué casos\n",
    "podría no ser necesario? De al menos un ejemplo. **(0.5 ptos)**\n",
    "\n",
    "1.3 Suponga que está analizando una encuesta con datos socioeconómicos (similar al Censo), y descubre que la variable **sueldo** tiene un 60% de datos perdidos. A qué tipo de dato perdido cree que corresponde: ¿MCAR, MAR, NMAR? Justique su elección ¿Qué haría con esta variable suponiendo que su objetivo es predecir nivel de estudios de una persona (enseñanza básica, media, universitaria, etc)? Explique. **(1.0 pto)**\n",
    "\n",
    "\n",
    "## 2. Aplicación, 4 ptos\n",
    "\n",
    "---\n",
    "Considere el problema que enfrenta una entidad financiera que tiene altas tasas de fuga voluntaria. Esta institución no tiene claro cuál es el perfil característico que tienen los clientes fugitivos ni cuáles son las razones por las cuales estos se fugan.\n",
    "\n",
    "El gerente general le ha pedido **definir el patrón característico de los clientes fugitivos y de los clientes no fugitivos con el objetivo de definir una serie de políticas comerciales** que permitan retener a estos potenciales clientes fugitivos."
   ]
  },
  {
   "cell_type": "markdown",
   "metadata": {
    "colab_type": "text",
    "id": "ABp2H1VegysR"
   },
   "source": [
    "**Tareas:**\n",
    "\n",
    "2.1 Resuelva los problemas de inconsistencia y valores pérdidos en la base de datos, justificando cada una de sus decisiones. Impute al menos una variable utilizando regresión lineal con el resto de columnas como regresores. \n",
    "**Nota**: no deben quedar valores perdidos. **(1.5 ptos)**\n",
    "\n",
    "\n",
    "2.2 Aplique 2 métodos de transformación sobre 2 variables distintas, grafique la distribución antes y después. Comente si las transformaciones tienen sentido y cuál sería su utilidad **(1.0 pto)**\n",
    "\n",
    "\n",
    "2.3 Aplique las técnicas de selección que considere pertinentes y elimine de la base aquellos atributos que no son relevantes según sus criterios, elimine al menos 2 **(1.0 pto)**\n",
    "\n",
    "\n",
    "2.4 Comente respecto a patrones encontrados entre clientes fugitivos y no fugitivos. Apóyese en gráficos y test estadísticos. **(0.5 ptos)**\n",
    "\n",
    "\n",
    "---\n",
    "Variable | Descripción\n",
    "------------- | -------------\n",
    "1. customer | ID\n",
    "2. Age | Edad\n",
    "3. Employ | Años en el mismo empleo\n",
    "4. Address | Años viviendo en el mismo lugar\n",
    "5. Income | Ingreso en USD\n",
    "6. Debtinc | Ratio Ingreso/Deuda\n",
    "7. Creddebt | Monto de deuda en tarjetas de crédito\n",
    "8. OthDebt | Monto de otras deudas\n",
    "9. Education | Nivel educacional\n",
    "10. Nationality | Nacionalidad\n",
    "11. Default | Variable objetivo"
   ]
  },
  {
   "cell_type": "code",
   "execution_count": 0,
   "metadata": {
    "colab": {},
    "colab_type": "code",
    "id": "X_wlW7GnhFSN"
   },
   "outputs": [],
   "source": [
    "import pandas as pd"
   ]
  },
  {
   "cell_type": "code",
   "execution_count": 0,
   "metadata": {
    "colab": {},
    "colab_type": "code",
    "id": "4FJ47qDoevKR"
   },
   "outputs": [],
   "source": [
    "url = \"https://raw.githubusercontent.com/Camiloez/lab3-dataset/master/data_lab.csv\"\n",
    "df = pd.read_csv(url)"
   ]
  },
  {
   "cell_type": "code",
   "execution_count": 0,
   "metadata": {
    "colab": {
     "base_uri": "https://localhost:8080/",
     "height": 204
    },
    "colab_type": "code",
    "id": "LqqtdYxwfIVr",
    "outputId": "cb045aae-9e5d-4a7e-b499-fc28e246f0fd"
   },
   "outputs": [
    {
     "data": {
      "text/html": [
       "<div>\n",
       "<style scoped>\n",
       "    .dataframe tbody tr th:only-of-type {\n",
       "        vertical-align: middle;\n",
       "    }\n",
       "\n",
       "    .dataframe tbody tr th {\n",
       "        vertical-align: top;\n",
       "    }\n",
       "\n",
       "    .dataframe thead th {\n",
       "        text-align: right;\n",
       "    }\n",
       "</style>\n",
       "<table border=\"1\" class=\"dataframe\">\n",
       "  <thead>\n",
       "    <tr style=\"text-align: right;\">\n",
       "      <th></th>\n",
       "      <th>customer</th>\n",
       "      <th>Age</th>\n",
       "      <th>Employ</th>\n",
       "      <th>Address</th>\n",
       "      <th>Income</th>\n",
       "      <th>Debtinc</th>\n",
       "      <th>Creddebt</th>\n",
       "      <th>OthDebt</th>\n",
       "      <th>Education</th>\n",
       "      <th>Nationality</th>\n",
       "      <th>Default</th>\n",
       "    </tr>\n",
       "  </thead>\n",
       "  <tbody>\n",
       "    <tr>\n",
       "      <th>0</th>\n",
       "      <td>10012</td>\n",
       "      <td>28.0</td>\n",
       "      <td>7</td>\n",
       "      <td>2.0</td>\n",
       "      <td>44.0</td>\n",
       "      <td>17.7</td>\n",
       "      <td>2.99</td>\n",
       "      <td>4.80</td>\n",
       "      <td>Med</td>\n",
       "      <td>N</td>\n",
       "      <td>N</td>\n",
       "    </tr>\n",
       "    <tr>\n",
       "      <th>1</th>\n",
       "      <td>10017</td>\n",
       "      <td>64.0</td>\n",
       "      <td>34</td>\n",
       "      <td>17.0</td>\n",
       "      <td>116.0</td>\n",
       "      <td>14.7</td>\n",
       "      <td>5.05</td>\n",
       "      <td>12.00</td>\n",
       "      <td>Posg</td>\n",
       "      <td>N</td>\n",
       "      <td>N</td>\n",
       "    </tr>\n",
       "    <tr>\n",
       "      <th>2</th>\n",
       "      <td>10030</td>\n",
       "      <td>40.0</td>\n",
       "      <td>20</td>\n",
       "      <td>12.0</td>\n",
       "      <td>61.0</td>\n",
       "      <td>4.8</td>\n",
       "      <td>1.04</td>\n",
       "      <td>1.89</td>\n",
       "      <td>Bas</td>\n",
       "      <td>N</td>\n",
       "      <td>N</td>\n",
       "    </tr>\n",
       "    <tr>\n",
       "      <th>3</th>\n",
       "      <td>10039</td>\n",
       "      <td>30.0</td>\n",
       "      <td>11</td>\n",
       "      <td>3.0</td>\n",
       "      <td>27.0</td>\n",
       "      <td>34.5</td>\n",
       "      <td>1.75</td>\n",
       "      <td>7.56</td>\n",
       "      <td>Bas</td>\n",
       "      <td>N</td>\n",
       "      <td>N</td>\n",
       "    </tr>\n",
       "    <tr>\n",
       "      <th>4</th>\n",
       "      <td>10069</td>\n",
       "      <td>25.0</td>\n",
       "      <td>2</td>\n",
       "      <td>2.0</td>\n",
       "      <td>30.0</td>\n",
       "      <td>22.4</td>\n",
       "      <td>0.76</td>\n",
       "      <td>5.96</td>\n",
       "      <td>Bas</td>\n",
       "      <td>N</td>\n",
       "      <td>S</td>\n",
       "    </tr>\n",
       "  </tbody>\n",
       "</table>\n",
       "</div>"
      ],
      "text/plain": [
       "   customer   Age  Employ  Address  ...  OthDebt  Education  Nationality  Default\n",
       "0     10012  28.0       7      2.0  ...     4.80        Med            N        N\n",
       "1     10017  64.0      34     17.0  ...    12.00       Posg            N        N\n",
       "2     10030  40.0      20     12.0  ...     1.89        Bas            N        N\n",
       "3     10039  30.0      11      3.0  ...     7.56        Bas            N        N\n",
       "4     10069  25.0       2      2.0  ...     5.96        Bas            N        S\n",
       "\n",
       "[5 rows x 11 columns]"
      ]
     },
     "execution_count": 3,
     "metadata": {
      "tags": []
     },
     "output_type": "execute_result"
    }
   ],
   "source": [
    "df.head(5)"
   ]
  },
  {
   "cell_type": "code",
   "execution_count": 0,
   "metadata": {
    "colab": {
     "base_uri": "https://localhost:8080/",
     "height": 297
    },
    "colab_type": "code",
    "id": "K3-XvVcOfI9_",
    "outputId": "4d30dbbb-8ed0-4901-e6c3-45ebe745a96e"
   },
   "outputs": [
    {
     "data": {
      "text/html": [
       "<div>\n",
       "<style scoped>\n",
       "    .dataframe tbody tr th:only-of-type {\n",
       "        vertical-align: middle;\n",
       "    }\n",
       "\n",
       "    .dataframe tbody tr th {\n",
       "        vertical-align: top;\n",
       "    }\n",
       "\n",
       "    .dataframe thead th {\n",
       "        text-align: right;\n",
       "    }\n",
       "</style>\n",
       "<table border=\"1\" class=\"dataframe\">\n",
       "  <thead>\n",
       "    <tr style=\"text-align: right;\">\n",
       "      <th></th>\n",
       "      <th>customer</th>\n",
       "      <th>Age</th>\n",
       "      <th>Employ</th>\n",
       "      <th>Address</th>\n",
       "      <th>Income</th>\n",
       "      <th>Debtinc</th>\n",
       "      <th>Creddebt</th>\n",
       "      <th>OthDebt</th>\n",
       "    </tr>\n",
       "  </thead>\n",
       "  <tbody>\n",
       "    <tr>\n",
       "      <th>count</th>\n",
       "      <td>1200.000000</td>\n",
       "      <td>1199.000000</td>\n",
       "      <td>1200.000000</td>\n",
       "      <td>1199.000000</td>\n",
       "      <td>1198.000000</td>\n",
       "      <td>1199.000000</td>\n",
       "      <td>1200.000000</td>\n",
       "      <td>1200.000000</td>\n",
       "    </tr>\n",
       "    <tr>\n",
       "      <th>mean</th>\n",
       "      <td>221336.065833</td>\n",
       "      <td>35.962469</td>\n",
       "      <td>7.062500</td>\n",
       "      <td>6.387823</td>\n",
       "      <td>60.000000</td>\n",
       "      <td>10.192494</td>\n",
       "      <td>2.002500</td>\n",
       "      <td>4.024317</td>\n",
       "    </tr>\n",
       "    <tr>\n",
       "      <th>std</th>\n",
       "      <td>132024.173652</td>\n",
       "      <td>57.447467</td>\n",
       "      <td>9.172897</td>\n",
       "      <td>6.094735</td>\n",
       "      <td>67.805486</td>\n",
       "      <td>6.859423</td>\n",
       "      <td>2.949625</td>\n",
       "      <td>5.619132</td>\n",
       "    </tr>\n",
       "    <tr>\n",
       "      <th>min</th>\n",
       "      <td>10012.000000</td>\n",
       "      <td>18.000000</td>\n",
       "      <td>0.000000</td>\n",
       "      <td>0.000000</td>\n",
       "      <td>-149.000000</td>\n",
       "      <td>0.100000</td>\n",
       "      <td>0.010000</td>\n",
       "      <td>0.010000</td>\n",
       "    </tr>\n",
       "    <tr>\n",
       "      <th>25%</th>\n",
       "      <td>89926.000000</td>\n",
       "      <td>24.000000</td>\n",
       "      <td>0.000000</td>\n",
       "      <td>2.000000</td>\n",
       "      <td>28.000000</td>\n",
       "      <td>4.900000</td>\n",
       "      <td>0.437500</td>\n",
       "      <td>1.137500</td>\n",
       "    </tr>\n",
       "    <tr>\n",
       "      <th>50%</th>\n",
       "      <td>269681.500000</td>\n",
       "      <td>31.000000</td>\n",
       "      <td>4.000000</td>\n",
       "      <td>5.000000</td>\n",
       "      <td>40.000000</td>\n",
       "      <td>8.800000</td>\n",
       "      <td>1.050000</td>\n",
       "      <td>2.325000</td>\n",
       "    </tr>\n",
       "    <tr>\n",
       "      <th>75%</th>\n",
       "      <td>343749.000000</td>\n",
       "      <td>42.000000</td>\n",
       "      <td>10.000000</td>\n",
       "      <td>9.500000</td>\n",
       "      <td>65.000000</td>\n",
       "      <td>13.900000</td>\n",
       "      <td>2.340000</td>\n",
       "      <td>4.742500</td>\n",
       "    </tr>\n",
       "    <tr>\n",
       "      <th>max</th>\n",
       "      <td>372571.000000</td>\n",
       "      <td>1970.000000</td>\n",
       "      <td>63.000000</td>\n",
       "      <td>34.000000</td>\n",
       "      <td>1079.000000</td>\n",
       "      <td>40.700000</td>\n",
       "      <td>35.970000</td>\n",
       "      <td>63.470000</td>\n",
       "    </tr>\n",
       "  </tbody>\n",
       "</table>\n",
       "</div>"
      ],
      "text/plain": [
       "            customer          Age  ...     Creddebt      OthDebt\n",
       "count    1200.000000  1199.000000  ...  1200.000000  1200.000000\n",
       "mean   221336.065833    35.962469  ...     2.002500     4.024317\n",
       "std    132024.173652    57.447467  ...     2.949625     5.619132\n",
       "min     10012.000000    18.000000  ...     0.010000     0.010000\n",
       "25%     89926.000000    24.000000  ...     0.437500     1.137500\n",
       "50%    269681.500000    31.000000  ...     1.050000     2.325000\n",
       "75%    343749.000000    42.000000  ...     2.340000     4.742500\n",
       "max    372571.000000  1970.000000  ...    35.970000    63.470000\n",
       "\n",
       "[8 rows x 8 columns]"
      ]
     },
     "execution_count": 4,
     "metadata": {
      "tags": []
     },
     "output_type": "execute_result"
    }
   ],
   "source": [
    "df.describe()"
   ]
  },
  {
   "cell_type": "code",
   "execution_count": 0,
   "metadata": {
    "colab": {
     "base_uri": "https://localhost:8080/",
     "height": 221
    },
    "colab_type": "code",
    "id": "_GHmktnCfMvo",
    "outputId": "1625f5de-d791-4e66-eb14-59581ce51c45"
   },
   "outputs": [
    {
     "data": {
      "text/plain": [
       "customer         int64\n",
       "Age            float64\n",
       "Employ           int64\n",
       "Address        float64\n",
       "Income         float64\n",
       "Debtinc        float64\n",
       "Creddebt       float64\n",
       "OthDebt        float64\n",
       "Education       object\n",
       "Nationality     object\n",
       "Default         object\n",
       "dtype: object"
      ]
     },
     "execution_count": 5,
     "metadata": {
      "tags": []
     },
     "output_type": "execute_result"
    }
   ],
   "source": [
    "df.dtypes"
   ]
  },
  {
   "cell_type": "code",
   "execution_count": 0,
   "metadata": {
    "colab": {
     "base_uri": "https://localhost:8080/",
     "height": 221
    },
    "colab_type": "code",
    "id": "DmdKV03i96TI",
    "outputId": "dbc98f2b-f5f9-4207-da54-b729f21460d0"
   },
   "outputs": [
    {
     "data": {
      "text/plain": [
       "customer       False\n",
       "Age             True\n",
       "Employ         False\n",
       "Address         True\n",
       "Income          True\n",
       "Debtinc         True\n",
       "Creddebt       False\n",
       "OthDebt        False\n",
       "Education       True\n",
       "Nationality    False\n",
       "Default        False\n",
       "dtype: bool"
      ]
     },
     "execution_count": 6,
     "metadata": {
      "tags": []
     },
     "output_type": "execute_result"
    }
   ],
   "source": [
    "df.isna().any(axis = 0)"
   ]
  }
 ],
 "metadata": {
  "colab": {
   "collapsed_sections": [],
   "name": "Laboratorio_3_Preprocesamiento.ipynb",
   "provenance": [],
   "version": "0.3.2"
  },
  "kernelspec": {
   "display_name": "Python 3",
   "language": "python",
   "name": "python3"
  },
  "language_info": {
   "codemirror_mode": {
    "name": "ipython",
    "version": 3
   },
   "file_extension": ".py",
   "mimetype": "text/x-python",
   "name": "python",
   "nbconvert_exporter": "python",
   "pygments_lexer": "ipython3",
   "version": "3.7.3"
  }
 },
 "nbformat": 4,
 "nbformat_minor": 1
}
