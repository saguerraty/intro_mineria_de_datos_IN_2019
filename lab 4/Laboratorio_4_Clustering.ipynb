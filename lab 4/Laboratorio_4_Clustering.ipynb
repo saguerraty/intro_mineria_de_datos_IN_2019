{
 "cells": [
  {
   "cell_type": "markdown",
   "metadata": {},
   "source": [
    "## Integrantes\n",
    "\n",
    "1. \n",
    "2. \n",
    "3. \n",
    "4. "
   ]
  },
  {
   "cell_type": "markdown",
   "metadata": {},
   "source": [
    "# Instrucciones\n",
    "\n",
    "El laboratorio tiene 6 ptos, donde obtener 6 ptos equivale a un 7.0 y 0 ptos un 1.0. \n",
    "\n",
    "El formato de entrega será subir a u-cursos un Jupyter notebook\n",
    "laboratorio4.ipynb, que se debe ejecutar sin errores desde la primera celda a la última. Todo el código debe estar en el mismo notebook, el código debe estar comentado y testeado, el notebook debe estar escrito en forma de informe técnico, escribiendo una celda markdown antes o después de cada celda de código que arroja algún output. "
   ]
  },
  {
   "cell_type": "markdown",
   "metadata": {},
   "source": [
    "# Laboratorio 4: Clustering\n",
    "\n",
    "Objetivos:\n",
    "\n",
    "\n",
    "\n",
    "1.  Entender en qué casos se puede utilizar clustering y cuál es su fin\n",
    "2.  Conocer y aplicar modelos de clustering\n",
    "3.  Conocer y aplicar métricas relacionadas a clustering\n",
    "4. Entender diferencia entre clustering y aprendizaje no supervisado"
   ]
  },
  {
   "cell_type": "markdown",
   "metadata": {
    "colab_type": "text",
    "id": "Y--TrIWGUjca"
   },
   "source": [
    "# Investigación (2 ptos)\n",
    "\n",
    "Elija 4 de 5 preguntas (`0.5 ptos c/u`)\n",
    "\n",
    "\n",
    "\n",
    "1. Explique un caso en que pueda fallar K-Means y mencione una forma de solucionarlo.\n",
    "2. ¿Es PCA un método de clustering? Justifique.\n",
    "3. Investigue las siguientes métricas: *purity, silhouette score.* Describa ventajas y desventajas.\n",
    "4. ¿En qué consiste el algoritmo Gaussian Mixture Models (GMM)? Comente su relación con K-Means.\n",
    "5. Explique como hallaría el número \"óptimo\" de clusters en un problema de clustering.\n"
   ]
  },
  {
   "cell_type": "markdown",
   "metadata": {
    "colab_type": "text",
    "id": "wGlApIV7F9wJ"
   },
   "source": [
    "# Práctica (4 ptos)\n",
    "\n",
    "\n",
    "Considere el problema que enfrenta una empresa del retail que desea segmentar a sus clientes con el fin de entender mejor su comportamiento y así poder realizar ofertas específicas para cada grupo. \n",
    "\n",
    "Para lo anterior cuenta con los siguientes datos:\n",
    "\n",
    "\n",
    "1.   Edad, género, educación, lugar dónde vive, teléfono, etc,\n",
    "2.   Si es miembro o no del club de puntos, gastos realizados en un año, y una métrica otorgada (spending score) por el departamento de marketing que indica qué tan buenos gastadores son, donde 100 corresponde a lo más alto y 0 a lo más bajo. \n",
    "\n",
    "**Notas:**\n",
    "\n",
    "1.   No posee registro de los gastos de quienes no pertenecen al club de puntos, sin embargo según lo indicado por el departamento de marketing es una variable muy importante.\n",
    "2.   A priori debería existir una correlación entre en el spending score y los gastos de una persona, aunque no necesariamente es así, por lo que se recomienda estudiar esta relación.\n",
    "\n",
    "\n",
    "\n",
    "\n",
    "\n",
    "\n",
    "\n",
    "\n",
    "\n",
    "\n",
    "\n",
    "\n",
    "\n"
   ]
  },
  {
   "cell_type": "markdown",
   "metadata": {
    "colab_type": "text",
    "id": "fKGkqDI9q3IR"
   },
   "source": [
    "**Tareas:**\n",
    "\n",
    "\n",
    "1.   Realice un análisis exploratorio de los datos (cantidad de registros, medias, medianas, missing values, etc) y muestre al menos 2 gráficos de variables que considere relevantes para el análisis. (`0.5 ptos`)\n",
    "2.   Cree una base de datos consistente (limpieza de NAs, transformaciones, imputaciones) y deje claramente expresadas las  * features* que utilizará para el clustering (al menos 3). Justifique las variables elegidas/creadas apoyándose en visualizaciones del punto 1.  (`0.5 ptos`)\n",
    "3.    Utilice K-Means y con la ayuda del método del codo, encuentre el número \"adecuado\" de clusters, comente si lo encontrado por los métodos hace sentido y justifique su elección. Comente además respecto al tamaño de cada cluster y los centroides. (`1.5 ptos`)\n",
    "\n",
    "`Nota:Se recomienda utilizar PCA y gráfico de radar con el fin de visualizar los clusters y sus centroides.`\n",
    "\n",
    "4. Utilice Clustering Jerárquico con al menos 2 linkage distintos al mostrado en clases y visualice sus respectivos dendogramas. Compare la cantidad de clusters encontrados con K-Means. ¿Se encuentra la misma cantidad? En caso de existir diferencias explique por qué cree que se dan. (`1.5 ptos`)\n",
    "\n",
    "\n"
   ]
  },
  {
   "cell_type": "markdown",
   "metadata": {
    "colab_type": "text",
    "id": "3FuyG3GYWQ0P"
   },
   "source": [
    "# Importar Librerías"
   ]
  },
  {
   "cell_type": "code",
   "execution_count": 1,
   "metadata": {
    "colab": {},
    "colab_type": "code",
    "id": "qh-lhh6jX7T0"
   },
   "outputs": [],
   "source": [
    "import numpy as np\n",
    "import matplotlib.pyplot as plt\n",
    "import pandas as pd\n",
    "from sklearn.cluster import KMeans\n",
    "import os"
   ]
  },
  {
   "cell_type": "code",
   "execution_count": 2,
   "metadata": {
    "colab": {
     "base_uri": "https://localhost:8080/",
     "height": 224
    },
    "colab_type": "code",
    "id": "P0kghe4AnduW",
    "outputId": "e1800b8f-e91b-43b2-fd79-ff53609f84a7"
   },
   "outputs": [],
   "source": [
    "df=pd.read_csv('https://raw.githubusercontent.com/Camiloez/Labs-Data-Mining/master/data.csv')"
   ]
  },
  {
   "cell_type": "code",
   "execution_count": 3,
   "metadata": {
    "colab": {
     "base_uri": "https://localhost:8080/",
     "height": 323
    },
    "colab_type": "code",
    "id": "A3G59niAd5Js",
    "outputId": "daacf490-4ca1-4da8-ca4e-4e4c00b44905"
   },
   "outputs": [
    {
     "data": {
      "text/html": [
       "<div>\n",
       "<style scoped>\n",
       "    .dataframe tbody tr th:only-of-type {\n",
       "        vertical-align: middle;\n",
       "    }\n",
       "\n",
       "    .dataframe tbody tr th {\n",
       "        vertical-align: top;\n",
       "    }\n",
       "\n",
       "    .dataframe thead th {\n",
       "        text-align: right;\n",
       "    }\n",
       "</style>\n",
       "<table border=\"1\" class=\"dataframe\">\n",
       "  <thead>\n",
       "    <tr style=\"text-align: right;\">\n",
       "      <th></th>\n",
       "      <th>CustomerID</th>\n",
       "      <th>State</th>\n",
       "      <th>Area Code</th>\n",
       "      <th>Address</th>\n",
       "      <th>Phone</th>\n",
       "      <th>Age</th>\n",
       "      <th>Genre</th>\n",
       "      <th>Education</th>\n",
       "      <th>Annual Income (k$)</th>\n",
       "      <th>Expenses</th>\n",
       "      <th>Spending Score (1-100)</th>\n",
       "      <th>Club Member</th>\n",
       "    </tr>\n",
       "  </thead>\n",
       "  <tbody>\n",
       "    <tr>\n",
       "      <th>0</th>\n",
       "      <td>1</td>\n",
       "      <td>KS</td>\n",
       "      <td>415</td>\n",
       "      <td>2.0</td>\n",
       "      <td>382-4657</td>\n",
       "      <td>19</td>\n",
       "      <td>Male</td>\n",
       "      <td>2.0</td>\n",
       "      <td>15</td>\n",
       "      <td>-</td>\n",
       "      <td>39</td>\n",
       "      <td>no</td>\n",
       "    </tr>\n",
       "    <tr>\n",
       "      <th>1</th>\n",
       "      <td>2</td>\n",
       "      <td>OH</td>\n",
       "      <td>415</td>\n",
       "      <td>17.0</td>\n",
       "      <td>371-7191</td>\n",
       "      <td>21</td>\n",
       "      <td>Male</td>\n",
       "      <td>3.0</td>\n",
       "      <td>15</td>\n",
       "      <td>-</td>\n",
       "      <td>81</td>\n",
       "      <td>no</td>\n",
       "    </tr>\n",
       "    <tr>\n",
       "      <th>2</th>\n",
       "      <td>3</td>\n",
       "      <td>NJ</td>\n",
       "      <td>415</td>\n",
       "      <td>12.0</td>\n",
       "      <td>358-1921</td>\n",
       "      <td>20</td>\n",
       "      <td>Female</td>\n",
       "      <td>1.0</td>\n",
       "      <td>16</td>\n",
       "      <td>-</td>\n",
       "      <td>6</td>\n",
       "      <td>no</td>\n",
       "    </tr>\n",
       "    <tr>\n",
       "      <th>3</th>\n",
       "      <td>4</td>\n",
       "      <td>OH</td>\n",
       "      <td>408</td>\n",
       "      <td>3.0</td>\n",
       "      <td>375-9999</td>\n",
       "      <td>23</td>\n",
       "      <td>Female</td>\n",
       "      <td>1.0</td>\n",
       "      <td>16</td>\n",
       "      <td>299.4</td>\n",
       "      <td>77</td>\n",
       "      <td>yes</td>\n",
       "    </tr>\n",
       "    <tr>\n",
       "      <th>4</th>\n",
       "      <td>5</td>\n",
       "      <td>OK</td>\n",
       "      <td>415</td>\n",
       "      <td>2.0</td>\n",
       "      <td>330-6626</td>\n",
       "      <td>31</td>\n",
       "      <td>Female</td>\n",
       "      <td>1.0</td>\n",
       "      <td>17</td>\n",
       "      <td>166.7</td>\n",
       "      <td>40</td>\n",
       "      <td>yes</td>\n",
       "    </tr>\n",
       "  </tbody>\n",
       "</table>\n",
       "</div>"
      ],
      "text/plain": [
       "   CustomerID State  Area Code  Address     Phone  Age   Genre  Education  \\\n",
       "0           1    KS        415      2.0  382-4657   19    Male        2.0   \n",
       "1           2    OH        415     17.0  371-7191   21    Male        3.0   \n",
       "2           3    NJ        415     12.0  358-1921   20  Female        1.0   \n",
       "3           4    OH        408      3.0  375-9999   23  Female        1.0   \n",
       "4           5    OK        415      2.0  330-6626   31  Female        1.0   \n",
       "\n",
       "   Annual Income (k$) Expenses  Spending Score (1-100) Club Member  \n",
       "0                  15        -                      39          no  \n",
       "1                  15        -                      81          no  \n",
       "2                  16        -                       6          no  \n",
       "3                  16    299.4                      77         yes  \n",
       "4                  17    166.7                      40         yes  "
      ]
     },
     "execution_count": 3,
     "metadata": {},
     "output_type": "execute_result"
    }
   ],
   "source": [
    "df.head(5)"
   ]
  },
  {
   "cell_type": "code",
   "execution_count": 4,
   "metadata": {
    "colab": {
     "base_uri": "https://localhost:8080/",
     "height": 297
    },
    "colab_type": "code",
    "id": "gSVaH1k_bjG-",
    "outputId": "3b48dfc2-7155-4734-d286-c1ac288f0d30"
   },
   "outputs": [
    {
     "data": {
      "text/html": [
       "<div>\n",
       "<style scoped>\n",
       "    .dataframe tbody tr th:only-of-type {\n",
       "        vertical-align: middle;\n",
       "    }\n",
       "\n",
       "    .dataframe tbody tr th {\n",
       "        vertical-align: top;\n",
       "    }\n",
       "\n",
       "    .dataframe thead th {\n",
       "        text-align: right;\n",
       "    }\n",
       "</style>\n",
       "<table border=\"1\" class=\"dataframe\">\n",
       "  <thead>\n",
       "    <tr style=\"text-align: right;\">\n",
       "      <th></th>\n",
       "      <th>CustomerID</th>\n",
       "      <th>Area Code</th>\n",
       "      <th>Address</th>\n",
       "      <th>Age</th>\n",
       "      <th>Education</th>\n",
       "      <th>Annual Income (k$)</th>\n",
       "      <th>Spending Score (1-100)</th>\n",
       "    </tr>\n",
       "  </thead>\n",
       "  <tbody>\n",
       "    <tr>\n",
       "      <th>count</th>\n",
       "      <td>200.000000</td>\n",
       "      <td>200.000000</td>\n",
       "      <td>199.000000</td>\n",
       "      <td>200.000000</td>\n",
       "      <td>121.000000</td>\n",
       "      <td>200.000000</td>\n",
       "      <td>200.000000</td>\n",
       "    </tr>\n",
       "    <tr>\n",
       "      <th>mean</th>\n",
       "      <td>100.500000</td>\n",
       "      <td>432.940000</td>\n",
       "      <td>6.356784</td>\n",
       "      <td>38.850000</td>\n",
       "      <td>1.727273</td>\n",
       "      <td>60.560000</td>\n",
       "      <td>50.200000</td>\n",
       "    </tr>\n",
       "    <tr>\n",
       "      <th>std</th>\n",
       "      <td>57.879185</td>\n",
       "      <td>40.548084</td>\n",
       "      <td>5.808244</td>\n",
       "      <td>13.969007</td>\n",
       "      <td>0.605530</td>\n",
       "      <td>26.264721</td>\n",
       "      <td>25.823522</td>\n",
       "    </tr>\n",
       "    <tr>\n",
       "      <th>min</th>\n",
       "      <td>1.000000</td>\n",
       "      <td>408.000000</td>\n",
       "      <td>0.000000</td>\n",
       "      <td>18.000000</td>\n",
       "      <td>1.000000</td>\n",
       "      <td>15.000000</td>\n",
       "      <td>1.000000</td>\n",
       "    </tr>\n",
       "    <tr>\n",
       "      <th>25%</th>\n",
       "      <td>50.750000</td>\n",
       "      <td>408.000000</td>\n",
       "      <td>2.000000</td>\n",
       "      <td>28.750000</td>\n",
       "      <td>1.000000</td>\n",
       "      <td>41.500000</td>\n",
       "      <td>34.750000</td>\n",
       "    </tr>\n",
       "    <tr>\n",
       "      <th>50%</th>\n",
       "      <td>100.500000</td>\n",
       "      <td>415.000000</td>\n",
       "      <td>5.000000</td>\n",
       "      <td>36.000000</td>\n",
       "      <td>2.000000</td>\n",
       "      <td>61.500000</td>\n",
       "      <td>50.000000</td>\n",
       "    </tr>\n",
       "    <tr>\n",
       "      <th>75%</th>\n",
       "      <td>150.250000</td>\n",
       "      <td>415.000000</td>\n",
       "      <td>9.000000</td>\n",
       "      <td>49.000000</td>\n",
       "      <td>2.000000</td>\n",
       "      <td>78.000000</td>\n",
       "      <td>73.000000</td>\n",
       "    </tr>\n",
       "    <tr>\n",
       "      <th>max</th>\n",
       "      <td>200.000000</td>\n",
       "      <td>510.000000</td>\n",
       "      <td>26.000000</td>\n",
       "      <td>70.000000</td>\n",
       "      <td>3.000000</td>\n",
       "      <td>137.000000</td>\n",
       "      <td>99.000000</td>\n",
       "    </tr>\n",
       "  </tbody>\n",
       "</table>\n",
       "</div>"
      ],
      "text/plain": [
       "       CustomerID   Area Code     Address         Age   Education  \\\n",
       "count  200.000000  200.000000  199.000000  200.000000  121.000000   \n",
       "mean   100.500000  432.940000    6.356784   38.850000    1.727273   \n",
       "std     57.879185   40.548084    5.808244   13.969007    0.605530   \n",
       "min      1.000000  408.000000    0.000000   18.000000    1.000000   \n",
       "25%     50.750000  408.000000    2.000000   28.750000    1.000000   \n",
       "50%    100.500000  415.000000    5.000000   36.000000    2.000000   \n",
       "75%    150.250000  415.000000    9.000000   49.000000    2.000000   \n",
       "max    200.000000  510.000000   26.000000   70.000000    3.000000   \n",
       "\n",
       "       Annual Income (k$)  Spending Score (1-100)  \n",
       "count          200.000000              200.000000  \n",
       "mean            60.560000               50.200000  \n",
       "std             26.264721               25.823522  \n",
       "min             15.000000                1.000000  \n",
       "25%             41.500000               34.750000  \n",
       "50%             61.500000               50.000000  \n",
       "75%             78.000000               73.000000  \n",
       "max            137.000000               99.000000  "
      ]
     },
     "execution_count": 4,
     "metadata": {},
     "output_type": "execute_result"
    }
   ],
   "source": [
    "df.describe()"
   ]
  }
 ],
 "metadata": {
  "colab": {
   "collapsed_sections": [],
   "name": "Laboratorio 4: Clustering.ipynb",
   "provenance": [],
   "version": "0.3.2"
  },
  "kernelspec": {
   "display_name": "Python 3",
   "language": "python",
   "name": "python3"
  },
  "language_info": {
   "codemirror_mode": {
    "name": "ipython",
    "version": 3
   },
   "file_extension": ".py",
   "mimetype": "text/x-python",
   "name": "python",
   "nbconvert_exporter": "python",
   "pygments_lexer": "ipython3",
   "version": "3.7.3"
  },
  "latex_envs": {
   "LaTeX_envs_menu_present": true,
   "autoclose": false,
   "autocomplete": true,
   "bibliofile": "biblio.bib",
   "cite_by": "apalike",
   "current_citInitial": 1,
   "eqLabelWithNumbers": true,
   "eqNumInitial": 1,
   "hotkeys": {
    "equation": "Ctrl-E",
    "itemize": "Ctrl-I"
   },
   "labels_anchors": false,
   "latex_user_defs": false,
   "report_style_numbering": false,
   "user_envs_cfg": false
  }
 },
 "nbformat": 4,
 "nbformat_minor": 1
}
