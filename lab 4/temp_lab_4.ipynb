{
 "cells": [
  {
   "cell_type": "markdown",
   "metadata": {},
   "source": [
    " ## Integrantes\n",
    "\n",
    " 1. Gabriela Alfaro\n",
    " 2. Sebastian Guerraty\n",
    " 3. Maria Jose Jimenez"
   ]
  },
  {
   "cell_type": "markdown",
   "metadata": {},
   "source": [
    " # Instrucciones\n",
    "\n",
    " El laboratorio tiene 6 ptos, donde obtener 6 ptos equivale a un 7.0 y 0 ptos un 1.0.\n",
    "\n",
    " El formato de entrega será subir a u-cursos un Jupyter notebook\n",
    " laboratorio4.ipynb, que se debe ejecutar sin errores desde la primera celda a la última. Todo el código debe estar en el mismo notebook, el código debe estar comentado y testeado, el notebook debe estar escrito en forma de informe técnico, escribiendo una celda markdown antes o después de cada celda de código que arroja algún output."
   ]
  },
  {
   "cell_type": "markdown",
   "metadata": {},
   "source": [
    " # Laboratorio 4: Clustering\n",
    "\n",
    " Objetivos:\n",
    "\n",
    "\n",
    "\n",
    " 1.  Entender en qué casos se puede utilizar clustering y cuál es su fin\n",
    " 2.  Conocer y aplicar modelos de clustering\n",
    " 3.  Conocer y aplicar métricas relacionadas a clustering\n",
    " 4. Entender diferencia entre clustering y aprendizaje no supervisado"
   ]
  },
  {
   "cell_type": "markdown",
   "metadata": {},
   "source": [
    " # Investigación (2 ptos)\n",
    "\n",
    " Elija 4 de 5 preguntas (`0.5 ptos c/u`)\n",
    "\n",
    "\n",
    "\n",
    " 1. Explique un caso en que pueda fallar K-Means y mencione una forma de solucionarlo.\n",
    "\n",
    " R: k-means al ser basado en la distancia euclidiana está orientado a clusters con forma circular, por lo que en clusters donde los grupos, o puntos pertenecientes a un cluster sean de una forma que se cruzen en términos de distancia euclidiana, k-means tendría dificultad para identificar correctamente los cluster apropiados.\n",
    " Una forma de corregir el problema es utilizar un método de clustering que permita identificar los cluster sin estar basado en distancia euclidiana, por ejemplo un método basado en densidad de puntos o vecinos más cercanos, como el caso del método DBSCAN\n",
    " <img src=\"images/kmeans_fail.png\" style=\"width:600px;height:300px;\">\n",
    " 2. ¿Es PCA un método de clustering? Justifique.\n",
    "\n",
    " R: PCA es un método de compresión de información que es particularmente útil cuando la cantidad de atributos en un DF es grande, en particular cuando se tiene un número interesante de variables que indiquen un mismo concepto central. No es un método de clustering, ya que no asigna un identificador de pertenencia ni total ni parcial a algún grupo como si lo hace un método de clustering .\n",
    " 3. Investigue las siguientes métricas: *purity, silhouette score.* Describa ventajas y desventajas.\n",
    " 4. ¿En qué consiste el algoritmo Gaussian Mixture Models (GMM)? Comente su relación con K-Means.\n",
    "\n",
    " R: Mixturas gausianas asume que los datos se componen de una cantidad N de distrubuciones gausianas de parámetros desconocidos, se puede considerar como una generalización de el método k-means ya que incorpora información de la coviarianza entre variables.\n",
    "    Adicionalmente, no tiene la limitación de k-means donde se orientan clusters con la distancia euclidiana, que termina en esferas en N dimensiones, GMM admite elipsoides debido a que asume que los datos dentro del cluster distribuyen como una gausiana.\n",
    " 5. Explique como hallaría el número \"óptimo\" de clusters en un problema de clustering.\n"
   ]
  },
  {
   "cell_type": "markdown",
   "metadata": {},
   "source": [
    " # Práctica (4 ptos)\n",
    "\n",
    "\n",
    " Considere el problema que enfrenta una empresa del retail que desea segmentar a sus clientes con el fin de entender mejor su comportamiento y así poder realizar ofertas específicas para cada grupo.\n",
    "\n",
    " Para lo anterior cuenta con los siguientes datos:\n",
    "\n",
    "\n",
    " 1.   Edad, género, educación, lugar dónde vive, teléfono, etc,\n",
    " 2.   Si es miembro o no del club de puntos, gastos realizados en un año, y una métrica otorgada (spending score) por el departamento de marketing que indica qué tan buenos gastadores son, donde 100 corresponde a lo más alto y 0 a lo más bajo.\n",
    "\n",
    " **Notas:**\n",
    "\n",
    " 1.   No posee registro de los gastos de quienes no pertenecen al club de puntos, sin embargo según lo indicado por el departamento de marketing es una variable muy importante.\n",
    " 2.   A priori debería existir una correlación entre en el spending score y los gastos de una persona, aunque no necesariamente es así, por lo que se recomienda estudiar esta relación.\n"
   ]
  },
  {
   "cell_type": "markdown",
   "metadata": {},
   "source": [
    " **Tareas:**\n",
    "\n",
    "\n",
    " 1.   Realice un análisis exploratorio de los datos (cantidad de registros, medias, medianas, missing values, etc) y muestre al menos 2 gráficos de variables que considere relevantes para el análisis. (`0.5 ptos`)\n",
    " 2.   Cree una base de datos consistente (limpieza de NAs, transformaciones, imputaciones) y deje claramente expresadas las  * features* que utilizará para el clustering (al menos 3). Justifique las variables elegidas/creadas apoyándose en visualizaciones del punto 1.  (`0.5 ptos`)\n",
    " 3.    Utilice K-Means y con la ayuda del método del codo, encuentre el número \"adecuado\" de clusters, comente si lo encontrado por los métodos hace sentido y justifique su elección. Comente además respecto al tamaño de cada cluster y los centroides. (`1.5 ptos`)\n",
    "\n",
    " `Nota:Se recomienda utilizar PCA y gráfico de radar con el fin de visualizar los clusters y sus centroides.`\n",
    "\n",
    " 4. Utilice Clustering Jerárquico con al menos 2 linkage distintos al mostrado en clases y visualice sus respectivos dendogramas. Compare la cantidad de clusters encontrados con K-Means. ¿Se encuentra la misma cantidad? En caso de existir diferencias explique por qué cree que se dan. (`1.5 ptos`)\n",
    "\n",
    "\n"
   ]
  },
  {
   "cell_type": "markdown",
   "metadata": {},
   "source": [
    " # Importar Librerías"
   ]
  },
  {
   "cell_type": "code",
   "execution_count": 62,
   "metadata": {},
   "outputs": [],
   "source": [
    "import numpy as np\n",
    "import matplotlib.pyplot as plt\n",
    "import pandas as pd\n",
    "from sklearn.preprocessing import StandardScaler\n",
    "from sklearn.decomposition import PCA\n",
    "from sklearn.cluster import KMeans\n",
    "import seaborn as sns\n",
    "import os\n",
    "from math import pi\n",
    "import scipy.cluster.hierarchy as sch\n"
   ]
  },
  {
   "cell_type": "code",
   "execution_count": 26,
   "metadata": {},
   "outputs": [],
   "source": [
    "df=pd.read_csv('https://raw.githubusercontent.com/Camiloez/Labs-Data-Mining/master/data.csv')\n",
    "\n"
   ]
  },
  {
   "cell_type": "code",
   "execution_count": 27,
   "metadata": {},
   "outputs": [
    {
     "data": {
      "text/html": [
       "<div>\n",
       "<style scoped>\n",
       "    .dataframe tbody tr th:only-of-type {\n",
       "        vertical-align: middle;\n",
       "    }\n",
       "\n",
       "    .dataframe tbody tr th {\n",
       "        vertical-align: top;\n",
       "    }\n",
       "\n",
       "    .dataframe thead th {\n",
       "        text-align: right;\n",
       "    }\n",
       "</style>\n",
       "<table border=\"1\" class=\"dataframe\">\n",
       "  <thead>\n",
       "    <tr style=\"text-align: right;\">\n",
       "      <th></th>\n",
       "      <th>CustomerID</th>\n",
       "      <th>State</th>\n",
       "      <th>Area Code</th>\n",
       "      <th>Address</th>\n",
       "      <th>Phone</th>\n",
       "      <th>Age</th>\n",
       "      <th>Genre</th>\n",
       "      <th>Education</th>\n",
       "      <th>Annual Income (k$)</th>\n",
       "      <th>Expenses</th>\n",
       "      <th>Spending Score (1-100)</th>\n",
       "      <th>Club Member</th>\n",
       "    </tr>\n",
       "  </thead>\n",
       "  <tbody>\n",
       "    <tr>\n",
       "      <th>0</th>\n",
       "      <td>1</td>\n",
       "      <td>KS</td>\n",
       "      <td>415</td>\n",
       "      <td>2.0</td>\n",
       "      <td>382-4657</td>\n",
       "      <td>19</td>\n",
       "      <td>Male</td>\n",
       "      <td>2.0</td>\n",
       "      <td>15</td>\n",
       "      <td>-</td>\n",
       "      <td>39</td>\n",
       "      <td>no</td>\n",
       "    </tr>\n",
       "    <tr>\n",
       "      <th>1</th>\n",
       "      <td>2</td>\n",
       "      <td>OH</td>\n",
       "      <td>415</td>\n",
       "      <td>17.0</td>\n",
       "      <td>371-7191</td>\n",
       "      <td>21</td>\n",
       "      <td>Male</td>\n",
       "      <td>3.0</td>\n",
       "      <td>15</td>\n",
       "      <td>-</td>\n",
       "      <td>81</td>\n",
       "      <td>no</td>\n",
       "    </tr>\n",
       "    <tr>\n",
       "      <th>2</th>\n",
       "      <td>3</td>\n",
       "      <td>NJ</td>\n",
       "      <td>415</td>\n",
       "      <td>12.0</td>\n",
       "      <td>358-1921</td>\n",
       "      <td>20</td>\n",
       "      <td>Female</td>\n",
       "      <td>1.0</td>\n",
       "      <td>16</td>\n",
       "      <td>-</td>\n",
       "      <td>6</td>\n",
       "      <td>no</td>\n",
       "    </tr>\n",
       "    <tr>\n",
       "      <th>3</th>\n",
       "      <td>4</td>\n",
       "      <td>OH</td>\n",
       "      <td>408</td>\n",
       "      <td>3.0</td>\n",
       "      <td>375-9999</td>\n",
       "      <td>23</td>\n",
       "      <td>Female</td>\n",
       "      <td>1.0</td>\n",
       "      <td>16</td>\n",
       "      <td>299.4</td>\n",
       "      <td>77</td>\n",
       "      <td>yes</td>\n",
       "    </tr>\n",
       "    <tr>\n",
       "      <th>4</th>\n",
       "      <td>5</td>\n",
       "      <td>OK</td>\n",
       "      <td>415</td>\n",
       "      <td>2.0</td>\n",
       "      <td>330-6626</td>\n",
       "      <td>31</td>\n",
       "      <td>Female</td>\n",
       "      <td>1.0</td>\n",
       "      <td>17</td>\n",
       "      <td>166.7</td>\n",
       "      <td>40</td>\n",
       "      <td>yes</td>\n",
       "    </tr>\n",
       "  </tbody>\n",
       "</table>\n",
       "</div>"
      ],
      "text/plain": [
       "   CustomerID State  Area Code  Address     Phone  Age   Genre  Education  \\\n",
       "0           1    KS        415      2.0  382-4657   19    Male        2.0   \n",
       "1           2    OH        415     17.0  371-7191   21    Male        3.0   \n",
       "2           3    NJ        415     12.0  358-1921   20  Female        1.0   \n",
       "3           4    OH        408      3.0  375-9999   23  Female        1.0   \n",
       "4           5    OK        415      2.0  330-6626   31  Female        1.0   \n",
       "\n",
       "   Annual Income (k$) Expenses  Spending Score (1-100) Club Member  \n",
       "0                  15        -                      39          no  \n",
       "1                  15        -                      81          no  \n",
       "2                  16        -                       6          no  \n",
       "3                  16    299.4                      77         yes  \n",
       "4                  17    166.7                      40         yes  "
      ]
     },
     "execution_count": 27,
     "metadata": {},
     "output_type": "execute_result"
    }
   ],
   "source": [
    "df.head(5)\n"
   ]
  },
  {
   "cell_type": "code",
   "execution_count": 28,
   "metadata": {},
   "outputs": [
    {
     "data": {
      "text/html": [
       "<div>\n",
       "<style scoped>\n",
       "    .dataframe tbody tr th:only-of-type {\n",
       "        vertical-align: middle;\n",
       "    }\n",
       "\n",
       "    .dataframe tbody tr th {\n",
       "        vertical-align: top;\n",
       "    }\n",
       "\n",
       "    .dataframe thead th {\n",
       "        text-align: right;\n",
       "    }\n",
       "</style>\n",
       "<table border=\"1\" class=\"dataframe\">\n",
       "  <thead>\n",
       "    <tr style=\"text-align: right;\">\n",
       "      <th></th>\n",
       "      <th>CustomerID</th>\n",
       "      <th>Area Code</th>\n",
       "      <th>Address</th>\n",
       "      <th>Age</th>\n",
       "      <th>Education</th>\n",
       "      <th>Annual Income (k$)</th>\n",
       "      <th>Spending Score (1-100)</th>\n",
       "    </tr>\n",
       "  </thead>\n",
       "  <tbody>\n",
       "    <tr>\n",
       "      <th>count</th>\n",
       "      <td>200.000000</td>\n",
       "      <td>200.000000</td>\n",
       "      <td>199.000000</td>\n",
       "      <td>200.000000</td>\n",
       "      <td>121.000000</td>\n",
       "      <td>200.000000</td>\n",
       "      <td>200.000000</td>\n",
       "    </tr>\n",
       "    <tr>\n",
       "      <th>mean</th>\n",
       "      <td>100.500000</td>\n",
       "      <td>432.940000</td>\n",
       "      <td>6.356784</td>\n",
       "      <td>38.850000</td>\n",
       "      <td>1.727273</td>\n",
       "      <td>60.560000</td>\n",
       "      <td>50.200000</td>\n",
       "    </tr>\n",
       "    <tr>\n",
       "      <th>std</th>\n",
       "      <td>57.879185</td>\n",
       "      <td>40.548084</td>\n",
       "      <td>5.808244</td>\n",
       "      <td>13.969007</td>\n",
       "      <td>0.605530</td>\n",
       "      <td>26.264721</td>\n",
       "      <td>25.823522</td>\n",
       "    </tr>\n",
       "    <tr>\n",
       "      <th>min</th>\n",
       "      <td>1.000000</td>\n",
       "      <td>408.000000</td>\n",
       "      <td>0.000000</td>\n",
       "      <td>18.000000</td>\n",
       "      <td>1.000000</td>\n",
       "      <td>15.000000</td>\n",
       "      <td>1.000000</td>\n",
       "    </tr>\n",
       "    <tr>\n",
       "      <th>25%</th>\n",
       "      <td>50.750000</td>\n",
       "      <td>408.000000</td>\n",
       "      <td>2.000000</td>\n",
       "      <td>28.750000</td>\n",
       "      <td>1.000000</td>\n",
       "      <td>41.500000</td>\n",
       "      <td>34.750000</td>\n",
       "    </tr>\n",
       "    <tr>\n",
       "      <th>50%</th>\n",
       "      <td>100.500000</td>\n",
       "      <td>415.000000</td>\n",
       "      <td>5.000000</td>\n",
       "      <td>36.000000</td>\n",
       "      <td>2.000000</td>\n",
       "      <td>61.500000</td>\n",
       "      <td>50.000000</td>\n",
       "    </tr>\n",
       "    <tr>\n",
       "      <th>75%</th>\n",
       "      <td>150.250000</td>\n",
       "      <td>415.000000</td>\n",
       "      <td>9.000000</td>\n",
       "      <td>49.000000</td>\n",
       "      <td>2.000000</td>\n",
       "      <td>78.000000</td>\n",
       "      <td>73.000000</td>\n",
       "    </tr>\n",
       "    <tr>\n",
       "      <th>max</th>\n",
       "      <td>200.000000</td>\n",
       "      <td>510.000000</td>\n",
       "      <td>26.000000</td>\n",
       "      <td>70.000000</td>\n",
       "      <td>3.000000</td>\n",
       "      <td>137.000000</td>\n",
       "      <td>99.000000</td>\n",
       "    </tr>\n",
       "  </tbody>\n",
       "</table>\n",
       "</div>"
      ],
      "text/plain": [
       "       CustomerID   Area Code     Address         Age   Education  \\\n",
       "count  200.000000  200.000000  199.000000  200.000000  121.000000   \n",
       "mean   100.500000  432.940000    6.356784   38.850000    1.727273   \n",
       "std     57.879185   40.548084    5.808244   13.969007    0.605530   \n",
       "min      1.000000  408.000000    0.000000   18.000000    1.000000   \n",
       "25%     50.750000  408.000000    2.000000   28.750000    1.000000   \n",
       "50%    100.500000  415.000000    5.000000   36.000000    2.000000   \n",
       "75%    150.250000  415.000000    9.000000   49.000000    2.000000   \n",
       "max    200.000000  510.000000   26.000000   70.000000    3.000000   \n",
       "\n",
       "       Annual Income (k$)  Spending Score (1-100)  \n",
       "count          200.000000              200.000000  \n",
       "mean            60.560000               50.200000  \n",
       "std             26.264721               25.823522  \n",
       "min             15.000000                1.000000  \n",
       "25%             41.500000               34.750000  \n",
       "50%             61.500000               50.000000  \n",
       "75%             78.000000               73.000000  \n",
       "max            137.000000               99.000000  "
      ]
     },
     "execution_count": 28,
     "metadata": {},
     "output_type": "execute_result"
    }
   ],
   "source": [
    "df.describe()\n"
   ]
  },
  {
   "cell_type": "markdown",
   "metadata": {},
   "source": [
    "### 1. Realice un análisis exploratorio de los datos (cantidad de registros, medias, medianas, missing values, etc) y muestre al menos 2 gráficos de variables que considere relevantes para el análisis."
   ]
  },
  {
   "cell_type": "code",
   "execution_count": 29,
   "metadata": {},
   "outputs": [
    {
     "data": {
      "text/plain": [
       "CustomerID                 0\n",
       "State                      0\n",
       "Area Code                  0\n",
       "Address                    1\n",
       "Phone                      0\n",
       "Age                        0\n",
       "Genre                      0\n",
       "Education                 79\n",
       "Annual Income (k$)         0\n",
       "Expenses                   0\n",
       "Spending Score (1-100)     0\n",
       "Club Member                0\n",
       "dtype: int64"
      ]
     },
     "execution_count": 29,
     "metadata": {},
     "output_type": "execute_result"
    }
   ],
   "source": [
    "df.isna().sum()\n"
   ]
  },
  {
   "cell_type": "code",
   "execution_count": 30,
   "metadata": {},
   "outputs": [
    {
     "data": {
      "text/plain": [
       "CustomerID                  int64\n",
       "State                      object\n",
       "Area Code                   int64\n",
       "Address                   float64\n",
       "Phone                      object\n",
       "Age                         int64\n",
       "Genre                      object\n",
       "Education                 float64\n",
       "Annual Income (k$)          int64\n",
       "Expenses                   object\n",
       "Spending Score (1-100)      int64\n",
       "Club Member                object\n",
       "dtype: object"
      ]
     },
     "execution_count": 30,
     "metadata": {},
     "output_type": "execute_result"
    }
   ],
   "source": [
    "df.dtypes"
   ]
  },
  {
   "cell_type": "markdown",
   "metadata": {},
   "source": [
    " Matriz de correlacion para establecer relacion entre variables"
   ]
  },
  {
   "cell_type": "code",
   "execution_count": 31,
   "metadata": {},
   "outputs": [
    {
     "name": "stderr",
     "output_type": "stream",
     "text": [
      "C:\\Users\\DELL\\Anaconda3\\lib\\site-packages\\numpy\\lib\\histograms.py:824: RuntimeWarning: invalid value encountered in greater_equal\n",
      "  keep = (tmp_a >= first_edge)\n",
      "C:\\Users\\DELL\\Anaconda3\\lib\\site-packages\\numpy\\lib\\histograms.py:825: RuntimeWarning: invalid value encountered in less_equal\n",
      "  keep &= (tmp_a <= last_edge)\n"
     ]
    },
    {
     "data": {
      "text/plain": [
       "<seaborn.axisgrid.PairGrid at 0x20bfddf9a20>"
      ]
     },
     "execution_count": 31,
     "metadata": {},
     "output_type": "execute_result"
    },
    {
     "data": {
      "image/png": "[encoded data removed]",
      "text/plain": [
       "<Figure size 900x900 with 30 Axes>"
      ]
     },
     "metadata": {
      "needs_background": "light"
     },
     "output_type": "display_data"
    }
   ],
   "source": [
    "df['female'] = pd.get_dummies(df['Genre']).iloc[:,0]\n",
    "sns.pairplot(df.iloc[:,5:13])\n",
    "\n"
   ]
  },
  {
   "cell_type": "code",
   "execution_count": 32,
   "metadata": {},
   "outputs": [],
   "source": [
    "df[\"Expenses\"]=df[\"Expenses\"].replace('-',np.nan)"
   ]
  },
  {
   "cell_type": "code",
   "execution_count": 33,
   "metadata": {},
   "outputs": [
    {
     "data": {
      "text/plain": [
       "<matplotlib.axes._subplots.AxesSubplot at 0x20bfe9cac50>"
      ]
     },
     "execution_count": 33,
     "metadata": {},
     "output_type": "execute_result"
    },
    {
     "data": {
      "image/png": "[encoded data removed]",
      "text/plain": [
       "<Figure size 432x288 with 1 Axes>"
      ]
     },
     "metadata": {
      "needs_background": "light"
     },
     "output_type": "display_data"
    }
   ],
   "source": [
    "sns.scatterplot(x = \"Annual Income (k$)\",y= \"Expenses\", data= df[df[\"Expenses\"].notnull()])\n"
   ]
  },
  {
   "cell_type": "code",
   "execution_count": 34,
   "metadata": {},
   "outputs": [
    {
     "ename": "SyntaxError",
     "evalue": "invalid syntax (<ipython-input-34-8816fd318ac3>, line 1)",
     "output_type": "error",
     "traceback": [
      "\u001b[1;36m  File \u001b[1;32m\"<ipython-input-34-8816fd318ac3>\"\u001b[1;36m, line \u001b[1;32m1\u001b[0m\n\u001b[1;33m    https://scikit-learn.org/stable/modules/mixture.html\u001b[0m\n\u001b[1;37m           ^\u001b[0m\n\u001b[1;31mSyntaxError\u001b[0m\u001b[1;31m:\u001b[0m invalid syntax\n"
     ]
    }
   ],
   "source": [
    "https://scikit-learn.org/stable/modules/mixture.html"
   ]
  },
  {
   "cell_type": "markdown",
   "metadata": {},
   "source": [
    "### 2. Cree una base de datos consistente (limpieza de NAs, transformaciones, imputaciones) y deje claramente expresadas las * features* que utilizará para el clustering (al menos 3). Justifique las variables elegidas/creadas apoyándose en visualizaciones del punto 1."
   ]
  },
  {
   "cell_type": "code",
   "execution_count": 56,
   "metadata": {},
   "outputs": [
    {
     "data": {
      "text/html": [
       "<div>\n",
       "<style scoped>\n",
       "    .dataframe tbody tr th:only-of-type {\n",
       "        vertical-align: middle;\n",
       "    }\n",
       "\n",
       "    .dataframe tbody tr th {\n",
       "        vertical-align: top;\n",
       "    }\n",
       "\n",
       "    .dataframe thead th {\n",
       "        text-align: right;\n",
       "    }\n",
       "</style>\n",
       "<table border=\"1\" class=\"dataframe\">\n",
       "  <thead>\n",
       "    <tr style=\"text-align: right;\">\n",
       "      <th></th>\n",
       "      <th>CustomerID</th>\n",
       "      <th>State</th>\n",
       "      <th>Area Code</th>\n",
       "      <th>Address</th>\n",
       "      <th>Phone</th>\n",
       "      <th>Age</th>\n",
       "      <th>Genre</th>\n",
       "      <th>Education</th>\n",
       "      <th>Annual Income (k$)</th>\n",
       "      <th>Expenses</th>\n",
       "      <th>Spending Score (1-100)</th>\n",
       "      <th>Club Member</th>\n",
       "      <th>female</th>\n",
       "    </tr>\n",
       "  </thead>\n",
       "  <tbody>\n",
       "    <tr>\n",
       "      <th>0</th>\n",
       "      <td>1</td>\n",
       "      <td>KS</td>\n",
       "      <td>415</td>\n",
       "      <td>2.0</td>\n",
       "      <td>382-4657</td>\n",
       "      <td>19</td>\n",
       "      <td>Male</td>\n",
       "      <td>2.0</td>\n",
       "      <td>15</td>\n",
       "      <td>NaN</td>\n",
       "      <td>39</td>\n",
       "      <td>no</td>\n",
       "      <td>0</td>\n",
       "    </tr>\n",
       "    <tr>\n",
       "      <th>1</th>\n",
       "      <td>2</td>\n",
       "      <td>OH</td>\n",
       "      <td>415</td>\n",
       "      <td>17.0</td>\n",
       "      <td>371-7191</td>\n",
       "      <td>21</td>\n",
       "      <td>Male</td>\n",
       "      <td>3.0</td>\n",
       "      <td>15</td>\n",
       "      <td>NaN</td>\n",
       "      <td>81</td>\n",
       "      <td>no</td>\n",
       "      <td>0</td>\n",
       "    </tr>\n",
       "    <tr>\n",
       "      <th>2</th>\n",
       "      <td>3</td>\n",
       "      <td>NJ</td>\n",
       "      <td>415</td>\n",
       "      <td>12.0</td>\n",
       "      <td>358-1921</td>\n",
       "      <td>20</td>\n",
       "      <td>Female</td>\n",
       "      <td>1.0</td>\n",
       "      <td>16</td>\n",
       "      <td>NaN</td>\n",
       "      <td>6</td>\n",
       "      <td>no</td>\n",
       "      <td>1</td>\n",
       "    </tr>\n",
       "    <tr>\n",
       "      <th>3</th>\n",
       "      <td>4</td>\n",
       "      <td>OH</td>\n",
       "      <td>408</td>\n",
       "      <td>3.0</td>\n",
       "      <td>375-9999</td>\n",
       "      <td>23</td>\n",
       "      <td>Female</td>\n",
       "      <td>1.0</td>\n",
       "      <td>16</td>\n",
       "      <td>299.4</td>\n",
       "      <td>77</td>\n",
       "      <td>yes</td>\n",
       "      <td>1</td>\n",
       "    </tr>\n",
       "    <tr>\n",
       "      <th>4</th>\n",
       "      <td>5</td>\n",
       "      <td>OK</td>\n",
       "      <td>415</td>\n",
       "      <td>2.0</td>\n",
       "      <td>330-6626</td>\n",
       "      <td>31</td>\n",
       "      <td>Female</td>\n",
       "      <td>1.0</td>\n",
       "      <td>17</td>\n",
       "      <td>166.7</td>\n",
       "      <td>40</td>\n",
       "      <td>yes</td>\n",
       "      <td>1</td>\n",
       "    </tr>\n",
       "  </tbody>\n",
       "</table>\n",
       "</div>"
      ],
      "text/plain": [
       "   CustomerID State  Area Code  Address     Phone  Age   Genre  Education  \\\n",
       "0           1    KS        415      2.0  382-4657   19    Male        2.0   \n",
       "1           2    OH        415     17.0  371-7191   21    Male        3.0   \n",
       "2           3    NJ        415     12.0  358-1921   20  Female        1.0   \n",
       "3           4    OH        408      3.0  375-9999   23  Female        1.0   \n",
       "4           5    OK        415      2.0  330-6626   31  Female        1.0   \n",
       "\n",
       "   Annual Income (k$) Expenses  Spending Score (1-100) Club Member  female  \n",
       "0                  15      NaN                      39          no       0  \n",
       "1                  15      NaN                      81          no       0  \n",
       "2                  16      NaN                       6          no       1  \n",
       "3                  16    299.4                      77         yes       1  \n",
       "4                  17    166.7                      40         yes       1  "
      ]
     },
     "execution_count": 56,
     "metadata": {},
     "output_type": "execute_result"
    }
   ],
   "source": [
    "df.head(5)"
   ]
  },
  {
   "cell_type": "code",
   "execution_count": 57,
   "metadata": {},
   "outputs": [
    {
     "data": {
      "text/plain": [
       "CustomerID                False\n",
       "State                     False\n",
       "Area Code                 False\n",
       "Address                    True\n",
       "Phone                     False\n",
       "Age                       False\n",
       "Genre                     False\n",
       "Education                  True\n",
       "Annual Income (k$)        False\n",
       "Expenses                   True\n",
       "Spending Score (1-100)    False\n",
       "Club Member               False\n",
       "female                    False\n",
       "dtype: bool"
      ]
     },
     "execution_count": 57,
     "metadata": {},
     "output_type": "execute_result"
    }
   ],
   "source": [
    "df.isna().any(axis = 0)"
   ]
  },
  {
   "cell_type": "code",
   "execution_count": 60,
   "metadata": {},
   "outputs": [
    {
     "data": {
      "text/html": [
       "<div>\n",
       "<style scoped>\n",
       "    .dataframe tbody tr th:only-of-type {\n",
       "        vertical-align: middle;\n",
       "    }\n",
       "\n",
       "    .dataframe tbody tr th {\n",
       "        vertical-align: top;\n",
       "    }\n",
       "\n",
       "    .dataframe thead th {\n",
       "        text-align: right;\n",
       "    }\n",
       "</style>\n",
       "<table border=\"1\" class=\"dataframe\">\n",
       "  <thead>\n",
       "    <tr style=\"text-align: right;\">\n",
       "      <th></th>\n",
       "      <th>CustomerID</th>\n",
       "      <th>State</th>\n",
       "      <th>Area Code</th>\n",
       "      <th>Address</th>\n",
       "      <th>Phone</th>\n",
       "      <th>Age</th>\n",
       "      <th>Genre</th>\n",
       "      <th>Education</th>\n",
       "      <th>Annual Income (k$)</th>\n",
       "      <th>Expenses</th>\n",
       "      <th>Spending Score (1-100)</th>\n",
       "      <th>Club Member</th>\n",
       "      <th>female</th>\n",
       "    </tr>\n",
       "  </thead>\n",
       "  <tbody>\n",
       "    <tr>\n",
       "      <th>0</th>\n",
       "      <td>1</td>\n",
       "      <td>KS</td>\n",
       "      <td>415</td>\n",
       "      <td>2.0</td>\n",
       "      <td>382-4657</td>\n",
       "      <td>19.0</td>\n",
       "      <td>Male</td>\n",
       "      <td>2.0</td>\n",
       "      <td>15</td>\n",
       "      <td>NaN</td>\n",
       "      <td>39</td>\n",
       "      <td>no</td>\n",
       "      <td>0</td>\n",
       "    </tr>\n",
       "    <tr>\n",
       "      <th>1</th>\n",
       "      <td>2</td>\n",
       "      <td>OH</td>\n",
       "      <td>415</td>\n",
       "      <td>17.0</td>\n",
       "      <td>371-7191</td>\n",
       "      <td>21.0</td>\n",
       "      <td>Male</td>\n",
       "      <td>3.0</td>\n",
       "      <td>15</td>\n",
       "      <td>NaN</td>\n",
       "      <td>81</td>\n",
       "      <td>no</td>\n",
       "      <td>0</td>\n",
       "    </tr>\n",
       "    <tr>\n",
       "      <th>2</th>\n",
       "      <td>3</td>\n",
       "      <td>NJ</td>\n",
       "      <td>415</td>\n",
       "      <td>12.0</td>\n",
       "      <td>358-1921</td>\n",
       "      <td>20.0</td>\n",
       "      <td>Female</td>\n",
       "      <td>1.0</td>\n",
       "      <td>16</td>\n",
       "      <td>NaN</td>\n",
       "      <td>6</td>\n",
       "      <td>no</td>\n",
       "      <td>1</td>\n",
       "    </tr>\n",
       "    <tr>\n",
       "      <th>3</th>\n",
       "      <td>4</td>\n",
       "      <td>OH</td>\n",
       "      <td>408</td>\n",
       "      <td>3.0</td>\n",
       "      <td>375-9999</td>\n",
       "      <td>23.0</td>\n",
       "      <td>Female</td>\n",
       "      <td>1.0</td>\n",
       "      <td>16</td>\n",
       "      <td>299.4</td>\n",
       "      <td>77</td>\n",
       "      <td>yes</td>\n",
       "      <td>1</td>\n",
       "    </tr>\n",
       "    <tr>\n",
       "      <th>4</th>\n",
       "      <td>5</td>\n",
       "      <td>OK</td>\n",
       "      <td>415</td>\n",
       "      <td>2.0</td>\n",
       "      <td>330-6626</td>\n",
       "      <td>31.0</td>\n",
       "      <td>Female</td>\n",
       "      <td>1.0</td>\n",
       "      <td>17</td>\n",
       "      <td>166.7</td>\n",
       "      <td>40</td>\n",
       "      <td>yes</td>\n",
       "      <td>1</td>\n",
       "    </tr>\n",
       "  </tbody>\n",
       "</table>\n",
       "</div>"
      ],
      "text/plain": [
       "   CustomerID State  Area Code  Address     Phone   Age   Genre  Education  \\\n",
       "0           1    KS        415      2.0  382-4657  19.0    Male        2.0   \n",
       "1           2    OH        415     17.0  371-7191  21.0    Male        3.0   \n",
       "2           3    NJ        415     12.0  358-1921  20.0  Female        1.0   \n",
       "3           4    OH        408      3.0  375-9999  23.0  Female        1.0   \n",
       "4           5    OK        415      2.0  330-6626  31.0  Female        1.0   \n",
       "\n",
       "   Annual Income (k$) Expenses  Spending Score (1-100) Club Member  female  \n",
       "0                  15      NaN                      39          no       0  \n",
       "1                  15      NaN                      81          no       0  \n",
       "2                  16      NaN                       6          no       1  \n",
       "3                  16    299.4                      77         yes       1  \n",
       "4                  17    166.7                      40         yes       1  "
      ]
     },
     "execution_count": 60,
     "metadata": {},
     "output_type": "execute_result"
    }
   ],
   "source": [
    "modi_df=df.copy()\n",
    "\n",
    "moda_edad =  float(df['Age'].mode())\n",
    "modi_df.loc[modi_df['Age']>100 , 'Age'] = np.nan\n",
    "modi_df['Age'].fillna(value = moda_edad, inplace=True)\n",
    "moda_adress = float(df['Address'].mode())\n",
    "modi_df['Address'].fillna(value=moda_adress,inplace=True)\n",
    "moda_education = float(df['Education'].mode())\n",
    "modi_df['Education'].fillna(value=moda_education,inplace=True)\n",
    "#moda_expenses = float(df['Expenses'].mode())\n",
    "#modi_df['Expenses'].fillna(value=moda_expenses,inplace=True)\n",
    "modi_df.head(5)"
   ]
  },
  {
   "cell_type": "markdown",
   "metadata": {},
   "source": [
    "### 3. Utilice K-Means y con la ayuda del método del codo, encuentre el número \"adecuado\" de clusters, comente si lo encontrado por los métodos hace sentido y justifique su elección. Comente además respecto al tamaño de cada cluster y los centroides.\n",
    "Nota: Se recomienda utilizar PCA y gráfico de radar con el fin de visualizar los clusters y sus centroides."
   ]
  },
  {
   "cell_type": "code",
   "execution_count": 77,
   "metadata": {},
   "outputs": [
    {
     "data": {
      "text/html": [
       "<div>\n",
       "<style scoped>\n",
       "    .dataframe tbody tr th:only-of-type {\n",
       "        vertical-align: middle;\n",
       "    }\n",
       "\n",
       "    .dataframe tbody tr th {\n",
       "        vertical-align: top;\n",
       "    }\n",
       "\n",
       "    .dataframe thead th {\n",
       "        text-align: right;\n",
       "    }\n",
       "</style>\n",
       "<table border=\"1\" class=\"dataframe\">\n",
       "  <thead>\n",
       "    <tr style=\"text-align: right;\">\n",
       "      <th></th>\n",
       "      <th>PCA 1</th>\n",
       "      <th>PCA 2</th>\n",
       "      <th>target</th>\n",
       "    </tr>\n",
       "  </thead>\n",
       "  <tbody>\n",
       "    <tr>\n",
       "      <th>0</th>\n",
       "      <td>-99.583354</td>\n",
       "      <td>10.432912</td>\n",
       "      <td>no</td>\n",
       "    </tr>\n",
       "    <tr>\n",
       "      <th>1</th>\n",
       "      <td>-98.259728</td>\n",
       "      <td>-31.558135</td>\n",
       "      <td>no</td>\n",
       "    </tr>\n",
       "    <tr>\n",
       "      <th>2</th>\n",
       "      <td>-97.837714</td>\n",
       "      <td>43.447344</td>\n",
       "      <td>no</td>\n",
       "    </tr>\n",
       "    <tr>\n",
       "      <th>3</th>\n",
       "      <td>-96.290612</td>\n",
       "      <td>-27.542841</td>\n",
       "      <td>yes</td>\n",
       "    </tr>\n",
       "    <tr>\n",
       "      <th>4</th>\n",
       "      <td>-95.575766</td>\n",
       "      <td>9.463766</td>\n",
       "      <td>yes</td>\n",
       "    </tr>\n",
       "  </tbody>\n",
       "</table>\n",
       "</div>"
      ],
      "text/plain": [
       "       PCA 1      PCA 2 target\n",
       "0 -99.583354  10.432912     no\n",
       "1 -98.259728 -31.558135     no\n",
       "2 -97.837714  43.447344     no\n",
       "3 -96.290612 -27.542841    yes\n",
       "4 -95.575766   9.463766    yes"
      ]
     },
     "execution_count": 77,
     "metadata": {},
     "output_type": "execute_result"
    }
   ],
   "source": [
    "#No se qué definir como y :) Ahorita le he puesto si es o no miembro del club (11).\n",
    "y = df.iloc[:,[11]].values\n",
    "\n",
    "pca = PCA(n_components=2)\n",
    "principalComponents = pca.fit_transform(x)\n",
    "\n",
    "pcadf = pd.DataFrame(data = principalComponents, columns = ['PCA 1', 'PCA 2'])\n",
    "pcadf['target']=y\n",
    "pcadf.head(5)"
   ]
  },
  {
   "cell_type": "code",
   "execution_count": 78,
   "metadata": {},
   "outputs": [
    {
     "data": {
      "text/plain": [
       "array(['no', 'yes'], dtype=object)"
      ]
     },
     "execution_count": 78,
     "metadata": {},
     "output_type": "execute_result"
    }
   ],
   "source": [
    "pcadf.target.unique()"
   ]
  },
  {
   "cell_type": "code",
   "execution_count": 80,
   "metadata": {},
   "outputs": [
    {
     "data": {
      "text/html": [
       "<div>\n",
       "<style scoped>\n",
       "    .dataframe tbody tr th:only-of-type {\n",
       "        vertical-align: middle;\n",
       "    }\n",
       "\n",
       "    .dataframe tbody tr th {\n",
       "        vertical-align: top;\n",
       "    }\n",
       "\n",
       "    .dataframe thead th {\n",
       "        text-align: right;\n",
       "    }\n",
       "</style>\n",
       "<table border=\"1\" class=\"dataframe\">\n",
       "  <thead>\n",
       "    <tr style=\"text-align: right;\">\n",
       "      <th></th>\n",
       "      <th>PCA 1</th>\n",
       "      <th>PCA 2</th>\n",
       "      <th>target</th>\n",
       "      <th>color</th>\n",
       "    </tr>\n",
       "  </thead>\n",
       "  <tbody>\n",
       "    <tr>\n",
       "      <th>0</th>\n",
       "      <td>-99.583354</td>\n",
       "      <td>10.432912</td>\n",
       "      <td>no</td>\n",
       "      <td>red</td>\n",
       "    </tr>\n",
       "    <tr>\n",
       "      <th>1</th>\n",
       "      <td>-98.259728</td>\n",
       "      <td>-31.558135</td>\n",
       "      <td>no</td>\n",
       "      <td>red</td>\n",
       "    </tr>\n",
       "    <tr>\n",
       "      <th>2</th>\n",
       "      <td>-97.837714</td>\n",
       "      <td>43.447344</td>\n",
       "      <td>no</td>\n",
       "      <td>red</td>\n",
       "    </tr>\n",
       "    <tr>\n",
       "      <th>3</th>\n",
       "      <td>-96.290612</td>\n",
       "      <td>-27.542841</td>\n",
       "      <td>yes</td>\n",
       "      <td>green</td>\n",
       "    </tr>\n",
       "    <tr>\n",
       "      <th>4</th>\n",
       "      <td>-95.575766</td>\n",
       "      <td>9.463766</td>\n",
       "      <td>yes</td>\n",
       "      <td>green</td>\n",
       "    </tr>\n",
       "  </tbody>\n",
       "</table>\n",
       "</div>"
      ],
      "text/plain": [
       "       PCA 1      PCA 2 target  color\n",
       "0 -99.583354  10.432912     no    red\n",
       "1 -98.259728 -31.558135     no    red\n",
       "2 -97.837714  43.447344     no    red\n",
       "3 -96.290612 -27.542841    yes  green\n",
       "4 -95.575766   9.463766    yes  green"
      ]
     },
     "execution_count": 80,
     "metadata": {},
     "output_type": "execute_result"
    }
   ],
   "source": [
    "def color(x):\n",
    "    if x=='yes':\n",
    "        return 'green'\n",
    "    elif x=='no':\n",
    "        return 'red'\n",
    "pcadf['color']=pcadf.target.apply(color)\n",
    "pcadf.head(5)"
   ]
  },
  {
   "cell_type": "code",
   "execution_count": 81,
   "metadata": {},
   "outputs": [
    {
     "data": {
      "image/png": "[encoded data removed]",
      "text/plain": [
       "<Figure size 432x288 with 1 Axes>"
      ]
     },
     "metadata": {
      "needs_background": "light"
     },
     "output_type": "display_data"
    }
   ],
   "source": [
    "plt.scatter(pcadf['PCA 1'], pcadf['PCA 2'], c=pcadf.color)\n",
    "plt.title('Visualizacion con 2 componentes')\n",
    "plt.xlabel('PCA 1')\n",
    "plt.ylabel('PCA 2')\n",
    "plt.show()"
   ]
  },
  {
   "cell_type": "markdown",
   "metadata": {},
   "source": [
    "### 4. Utilice Clustering Jerárquico con al menos 2 linkage distintos al mostrado en clases y visualice sus respectivos dendogramas. Compare la cantidad de clusters encontrados con K-Means. ¿Se encuentra la misma cantidad? En caso de existir diferencias explique por qué cree que se dan. "
   ]
  },
  {
   "cell_type": "code",
   "execution_count": 73,
   "metadata": {},
   "outputs": [],
   "source": [
    "x = df.iloc[:, [0, 10]].values"
   ]
  },
  {
   "cell_type": "code",
   "execution_count": 75,
   "metadata": {},
   "outputs": [
    {
     "data": {
      "image/png": "[encoded data removed]",
      "text/plain": [
       "<Figure size 432x288 with 1 Axes>"
      ]
     },
     "metadata": {
      "needs_background": "light"
     },
     "output_type": "display_data"
    }
   ],
   "source": [
    "dendrogram = sch.dendrogram(sch.linkage(x, method = 'ward'))\n",
    "plt.title('Dendograma')\n",
    "plt.xlabel('Cliente')\n",
    "plt.ylabel('Distancias Euclidianas')\n",
    "plt.show()"
   ]
  },
  {
   "cell_type": "code",
   "execution_count": null,
   "metadata": {},
   "outputs": [],
   "source": []
  }
 ],
 "metadata": {
  "file_extension": ".py",
  "kernelspec": {
   "display_name": "Python 3",
   "language": "python",
   "name": "python3"
  },
  "language_info": {
   "codemirror_mode": {
    "name": "ipython",
    "version": 3
   },
   "file_extension": ".py",
   "mimetype": "text/x-python",
   "name": "python",
   "nbconvert_exporter": "python",
   "pygments_lexer": "ipython3",
   "version": "3.7.3"
  },
  "mimetype": "text/x-python",
  "name": "python",
  "npconvert_exporter": "python",
  "pygments_lexer": "ipython3",
  "version": 3
 },
 "nbformat": 4,
 "nbformat_minor": 2
}
